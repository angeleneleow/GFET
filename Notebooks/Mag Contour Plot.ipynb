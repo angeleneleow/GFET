{
 "cells": [
  {
   "cell_type": "code",
   "execution_count": 1,
   "metadata": {},
   "outputs": [
    {
     "name": "stderr",
     "output_type": "stream",
     "text": [
      "C:\\Users\\aleow\\Anaconda3\\lib\\site-packages\\dask\\config.py:168: YAMLLoadWarning: calling yaml.load() without Loader=... is deprecated, as the default Loader is unsafe. Please read https://msg.pyyaml.org/load for full details.\n",
      "  data = yaml.load(f.read()) or {}\n"
     ]
    }
   ],
   "source": [
    "import sys\n",
    "sys.path.append(\"../\")\n",
    "from GeoToolkit.Mag import Mag, ProblemSetter, MathUtils, Simulator, DataIO\n",
    "from GeoToolkit.graphics import colors,graphics\n",
    "import matplotlib.pyplot as plt\n",
    "from scipy.spatial import Delaunay\n",
    "from scipy.interpolate import LinearNDInterpolator\n",
    "import numpy as np\n",
    "import matplotlib\n",
    "from matplotlib import axes\n",
    "from matplotlib import pyplot\n",
    "from matplotlib import figure\n",
    "from matplotlib import colors\n",
    "import matplotlib.pyplot as plt"
   ]
  },
  {
   "cell_type": "code",
   "execution_count": 2,
   "metadata": {},
   "outputs": [
    {
     "name": "stdout",
     "output_type": "stream",
     "text": [
      "\n"
     ]
    },
    {
     "data": {
      "application/vnd.jupyter.widget-view+json": {
       "model_id": "b702744e64e244f3b1484f4e8fe9e7b9",
       "version_major": 2,
       "version_minor": 0
      },
      "text/plain": [
       "interactive(children=(RadioButtons(description='File Type:', options=('Local', 'Cloud'), value='Local'), Text(…"
      ]
     },
     "metadata": {},
     "output_type": "display_data"
    }
   ],
   "source": [
    "download = DataIO.fetchData(path=\"./assets\", localCloud='Local')\n",
    "display(download)"
   ]
  },
  {
   "cell_type": "code",
   "execution_count": null,
   "metadata": {},
   "outputs": [],
   "source": [
    "\n"
   ]
  },
  {
   "cell_type": "code",
   "execution_count": 3,
   "metadata": {},
   "outputs": [
    {
     "ename": "NameError",
     "evalue": "name 'grid' is not defined",
     "output_type": "error",
     "traceback": [
      "\u001b[1;31m---------------------------------------------------------------------------\u001b[0m",
      "\u001b[1;31mNameError\u001b[0m                                 Traceback (most recent call last)",
      "\u001b[1;32m<ipython-input-3-c7a0c3fe84c3>\u001b[0m in \u001b[0;36m<module>\u001b[1;34m\u001b[0m\n\u001b[1;32m----> 1\u001b[1;33m \u001b[0mdata\u001b[0m\u001b[1;33m=\u001b[0m\u001b[0mgrid\u001b[0m\u001b[1;33m.\u001b[0m\u001b[0mvalues\u001b[0m\u001b[1;33m\u001b[0m\u001b[1;33m\u001b[0m\u001b[0m\n\u001b[0m\u001b[0;32m      2\u001b[0m \u001b[0mvmin\u001b[0m \u001b[1;33m=\u001b[0m \u001b[0mdata\u001b[0m\u001b[1;33m[\u001b[0m\u001b[1;33m~\u001b[0m\u001b[0mnp\u001b[0m\u001b[1;33m.\u001b[0m\u001b[0misnan\u001b[0m\u001b[1;33m(\u001b[0m\u001b[0mdata\u001b[0m\u001b[1;33m)\u001b[0m\u001b[1;33m]\u001b[0m\u001b[1;33m.\u001b[0m\u001b[0mmin\u001b[0m\u001b[1;33m(\u001b[0m\u001b[1;33m)\u001b[0m\u001b[1;33m\u001b[0m\u001b[1;33m\u001b[0m\u001b[0m\n\u001b[0;32m      3\u001b[0m \u001b[0mvmax\u001b[0m \u001b[1;33m=\u001b[0m \u001b[0mdata\u001b[0m\u001b[1;33m[\u001b[0m\u001b[1;33m~\u001b[0m\u001b[0mnp\u001b[0m\u001b[1;33m.\u001b[0m\u001b[0misnan\u001b[0m\u001b[1;33m(\u001b[0m\u001b[0mdata\u001b[0m\u001b[1;33m)\u001b[0m\u001b[1;33m]\u001b[0m\u001b[1;33m.\u001b[0m\u001b[0mmax\u001b[0m\u001b[1;33m(\u001b[0m\u001b[1;33m)\u001b[0m\u001b[1;33m\u001b[0m\u001b[1;33m\u001b[0m\u001b[0m\n\u001b[0;32m      4\u001b[0m \u001b[0mrange\u001b[0m \u001b[1;33m=\u001b[0m \u001b[0mvmax\u001b[0m\u001b[1;33m-\u001b[0m\u001b[0mvmin\u001b[0m\u001b[1;33m\u001b[0m\u001b[1;33m\u001b[0m\u001b[0m\n\u001b[0;32m      5\u001b[0m \u001b[0msigma\u001b[0m\u001b[1;33m=\u001b[0m \u001b[1;36m0.1\u001b[0m\u001b[1;33m*\u001b[0m\u001b[0mrange\u001b[0m\u001b[1;33m\u001b[0m\u001b[1;33m\u001b[0m\u001b[0m\n",
      "\u001b[1;31mNameError\u001b[0m: name 'grid' is not defined"
     ]
    }
   ],
   "source": [
    "data=grid.values\n",
    "vmin = data[~np.isnan(data)].min()\n",
    "vmax = data[~np.isnan(data)].max()\n",
    "range = vmax-vmin\n",
    "sigma= 0.1*range\n",
    "v_uplim= vmax-sigma\n",
    "v_lowlim= vmin+sigma\n",
    "print(float(v_uplim),float(v_lowlim))"
   ]
  },
  {
   "cell_type": "code",
   "execution_count": null,
   "metadata": {},
   "outputs": [],
   "source": [
    "axs = plt.subplot()\n",
    "plt.imshow(grid.values,cmap='seismic')\n",
    "plt.contourf(grid.hx,grid.hy,grid.values)\n",
    "plt.contour(grid.hx,grid.hy,grid.values)\n",
    "cbar=plt.colorbar()\n",
    "cbar.set_label('TMI (nT)')\n"
   ]
  },
  {
   "cell_type": "code",
   "execution_count": null,
   "metadata": {},
   "outputs": [],
   "source": [
    "axs = plt.subplot()\n",
    "plt.imshow(grid.values,cmap='seismic')\n",
    "\n",
    "plt.contour(grid.hx,grid.hy,grid.values)\n",
    "cbar=plt.colorbar()\n",
    "cbar.set_label('TMI (nT)')"
   ]
  },
  {
   "cell_type": "code",
   "execution_count": null,
   "metadata": {},
   "outputs": [],
   "source": [
    "fig,ax = plt.subplots(figsize=(12,6))\n",
    "graphics.imshow_hs(grid.values,ax,cmap='Spectral_r',cmap_norm='nonorm',hs=False,colorbar=True,\n",
    "                   origin='lower')"
   ]
  },
  {
   "cell_type": "code",
   "execution_count": null,
   "metadata": {},
   "outputs": [],
   "source": []
  },
  {
   "cell_type": "code",
   "execution_count": null,
   "metadata": {},
   "outputs": [],
   "source": [
    "fig,ax = plt.subplots(figsize=(12,6))\n",
    "graphics.imshow_hs(grid.values,ax,cmap='RdBu_r',cmap_norm='nonorm',hs=False,colorbar=True,\n",
    "                   cb_ticks='stats',nSigma=2,\n",
    "                   extent=(-308000.0, -183500.0, 0.0, 61500.0),origin='lower')"
   ]
  },
  {
   "cell_type": "code",
   "execution_count": null,
   "metadata": {},
   "outputs": [],
   "source": [
    "fig,ax = plt.subplots(figsize=(12,6))\n",
    "graphics.imshow_hs(grid.values,ax,cmap='geosoft',cmap_norm='equalize',hs=False,colorbar=True,\n",
    "                   cb_ticks='stats',nSigma=2,label='TMI (nT)',\n",
    "                   origin='lower')\n",
    "\n",
    "axs.set_xlabel(\"Easting (m)\", size=14)\n",
    "axs.set_ylabel(\"Northing (m)\", size=14)\n",
    "axs.grid('on', color='k', linestyle='--')"
   ]
  },
  {
   "cell_type": "code",
   "execution_count": null,
   "metadata": {},
   "outputs": [],
   "source": [
    "fig,ax = plt.subplots(figsize=(12,6))\n",
    "graphics.imshow_hs(grid.values,ax,cmap='geosoft',cmap_norm='equalize',hs=False,colorbar=True,\n",
    "                   cb_ticks='stats',nSigma=2,\n",
    "                   contours=True,levels=[v_lowlim,0,v_uplim],\n",
    "                   origin='lower')\n",
    "\n"
   ]
  },
  {
   "cell_type": "code",
   "execution_count": null,
   "metadata": {},
   "outputs": [],
   "source": [
    "fig,ax = plt.subplots(figsize=(12,6))\n",
    "graphics.imshow_hs(grid.values,ax,cmap='RdBu_r',cmap_norm='autolevels',hs=False,colorbar=True,\n",
    "                   cb_ticks='stats',nSigma=2,minPercent=2,maxPercent=98,\n",
    "                   contours=True,levels=[v_lowlim,0,v_uplim],\n",
    "                  origin='lower')"
   ]
  },
  {
   "cell_type": "code",
   "execution_count": null,
   "metadata": {},
   "outputs": [],
   "source": [
    "#contours\n",
    "fig,ax = plt.subplots(figsize=(12,6))\n",
    "graphics.imshow_hs(grid.values,ax,cmap='geosoft',cmap_norm='autolevels',hs=False,colorbar=True,\n",
    "                   cb_ticks='stats',nSigma=2,minPercent=2,maxPercent=98,\n",
    "                   contours=True,levels=[-600,-300,0,800],\n",
    "                  origin='lower')"
   ]
  },
  {
   "cell_type": "code",
   "execution_count": null,
   "metadata": {},
   "outputs": [],
   "source": [
    "#hillshade\n",
    "fig,ax = plt.subplots(figsize=(12,6))\n",
    "graphics.imshow_hs(grid.values,ax,cmap='coolwarm',cmap_norm='autolevels',hs=True,colorbar=True,\n",
    "                   cb_ticks='stats',nSigma=2,azdeg=45,altdeg=45,blend_mode='soft',\n",
    "                   contours=True,levels=[v_lowlim,0,v_uplim],\n",
    "                   origin='lower')"
   ]
  },
  {
   "cell_type": "code",
   "execution_count": null,
   "metadata": {},
   "outputs": [],
   "source": [
    "import ipywidgets as widgets\n",
    "v_uplim=float(v_uplim)\n",
    "v_low=float(v_lowlim)\n",
    "\n",
    "def update_plot(v_uplim):\n",
    "    \"\"\"\n",
    "    replots contour  when slider is changed\n",
    "    \"\"\"\n",
    "       \n",
    "    fig,ax = plt.subplots(figsize=(12,6))\n",
    "    graphics.imshow_hs(grid.values,ax,cmap='geosoft',cmap_norm='equalize',hs=True,colorbar=True,\n",
    "                   cb_ticks='stats',nSigma=2,azdeg=45,altdeg=45,blend_mode='alpha',alpha=0.7,\n",
    "                   contours=True,levels=[v_uplim],\n",
    "                   origin='lower')\n",
    "    \n",
    "    \n",
    "magCon = widgets.FloatSlider(min=0,\n",
    "                            max=v_uplim,\n",
    "                            value=1,\n",
    "                           description='MagCon:')\n",
    "widgets.interactive(update_plot,v_uplim)\n",
    "\n",
    "\n",
    "\n",
    "\n"
   ]
  },
  {
   "cell_type": "code",
   "execution_count": null,
   "metadata": {},
   "outputs": [],
   "source": [
    "fig,ax = plt.subplots(figsize=(12,6))\n",
    "graphics.imshow_hs(grid.values,ax,cmap='geosoft',cmap_norm='equalize',hs=True,colorbar=True,\n",
    "                   cb_ticks='stats',nSigma=2,azdeg=45,altdeg=45,blend_mode='alpha',alpha=0.7,\n",
    "                   contours=True,levels=[v_uplim],\n",
    "                  origin='lower')"
   ]
  },
  {
   "cell_type": "code",
   "execution_count": null,
   "metadata": {},
   "outputs": [],
   "source": [
    "\n",
    "# histogram equalization\n",
    "import matplotlib.colors as mcolors\n",
    "mynorm = mcolors.BoundaryNorm(graphics.stats_boundaries(grid.values,nSigma=1,sigmaStep=0.25),256)\n",
    "# make nSigma into slider\n",
    "\n",
    "fig,ax = plt.subplots(figsize=(12,6))\n",
    "# https://matplotlib.org/users/colormapnorms.html\n",
    "graphics.imshow_hs(grid.values,ax,cmap='RdBu_r',cmap_norm='no',hs=True,colorbar=True,norm=mynorm,\n",
    "                   cb_ticks='stats',nSigma=2,azdeg=45,altdeg=45,blend_mode='alpha',alpha=0.7,\n",
    "                   contours=True,levels=[vmin,v_lowlim,0,v_uplim,vmax],\n",
    "                   origin='lower')\n"
   ]
  },
  {
   "cell_type": "code",
   "execution_count": null,
   "metadata": {},
   "outputs": [],
   "source": [
    "import matplotlib.colors as mcolors\n",
    "mynorm = mcolors.BoundaryNorm(graphics.stats_boundaries(grid.values,nSigma=2,sigmaStep=0.5),256)\n",
    "\n",
    "fig, ax = plt.subplots(figsize=(12,6))\n",
    "# Now make a contour plot with the levels specified,\n",
    "# and with the colormap generated automatically from a list\n",
    "# of colors.\n",
    "levels=[vmin,v_lowlim,0,v_uplim,vmax]\n",
    "img = ax.contourf(grid.hx, grid.hy, grid.values, levels,\n",
    "                   colors=('r', 'g', 'b'),\n",
    "                   origin='lower'\n",
    "                   )\n",
    "# Our data range extends outside the range of levels; make\n",
    "# data below the lowest contour level yellow, and above the\n",
    "# highest level cyan:\n",
    "CS.cmap.set_under('blue')\n",
    "CS.cmap.set_over('red')\n",
    "\n",
    "CS = ax.contour(grid.hx,grid.hy, grid.values, levels,\n",
    "                  colors=('k',),\n",
    "                  linewidths=(3,),\n",
    "                  origin='lower')\n",
    "\n",
    "ax.clabel(CS, fmt='%2.1f', colors='w', fontsize=14)\n",
    "fig.colorbar(img)\n"
   ]
  },
  {
   "cell_type": "code",
   "execution_count": null,
   "metadata": {},
   "outputs": [],
   "source": []
  },
  {
   "cell_type": "code",
   "execution_count": null,
   "metadata": {},
   "outputs": [],
   "source": [
    "\n"
   ]
  },
  {
   "cell_type": "code",
   "execution_count": null,
   "metadata": {},
   "outputs": [],
   "source": [
    "#get contour for colormap= equalized histogram\n",
    "\n",
    "\n",
    "axs = plt.subplot()\n",
    "out = Simulator.plotDataHillside(download.result, grid.hy, grid.values, alpha=1, alphaHS=0,cmap=\"RdBu_r\")\n",
    "axs.set_aspect('equal')\n",
    "plt.imshow(gridObject.values)\n",
    "cbar=plt.colorbar()\n",
    "cbar.set_label('TMI (nT)')\n",
    "axs.set_xlabel(\"Easting (m)\", size=14)\n",
    "axs.set_ylabel(\"Northing (m)\", size=14)\n",
    "axs.grid('on', color='k', linestyle='--')\n"
   ]
  },
  {
   "cell_type": "code",
   "execution_count": null,
   "metadata": {},
   "outputs": [],
   "source": []
  }
 ],
 "metadata": {
  "kernelspec": {
   "display_name": "Python 3",
   "language": "python",
   "name": "python3"
  },
  "language_info": {
   "codemirror_mode": {
    "name": "ipython",
    "version": 3
   },
   "file_extension": ".py",
   "mimetype": "text/x-python",
   "name": "python",
   "nbconvert_exporter": "python",
   "pygments_lexer": "ipython3",
   "version": "3.7.3"
  }
 },
 "nbformat": 4,
 "nbformat_minor": 2
}
