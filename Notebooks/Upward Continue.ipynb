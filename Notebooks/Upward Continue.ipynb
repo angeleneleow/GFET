{
 "cells": [
  {
   "cell_type": "markdown",
   "metadata": {},
   "source": [
    "# Select File"
   ]
  },
  {
   "cell_type": "code",
   "execution_count": null,
   "metadata": {},
   "outputs": [],
   "source": [
    "import sys\n",
    "sys.path.append('../')\n",
    "from GeoToolkit.Mag import Mag, ProblemSetter, MathUtils, Simulator, DataIO\n",
    "from tkinter import *\n",
    "import tkinter as tk\n",
    "import tkinter.filedialog\n",
    "from tkinter.filedialog import askdirectory\n",
    "from tkinter.filedialog import askopenfilename\n",
    "window = Tk() # user input window\n",
    "Tk().withdraw()\n",
    "MyText= StringVar()\n",
    "\n",
    "def DisplayDir(Var):\n",
    "    feedback = askopenfilename()\n",
    "    Var.set(feedback)\n",
    "\n",
    "Button(window, text='Browse File', command=DisplayDir(MyText)).pack()\n",
    "Entry(window, textvariable = MyText).pack()\n",
    "Button(window, text='OK', command=window.destroy).pack()\n",
    "mainloop()\n"
   ]
  },
  {
   "cell_type": "markdown",
   "metadata": {},
   "source": [
    "## Input: grd file"
   ]
  },
  {
   "cell_type": "code",
   "execution_count": null,
   "metadata": {
    "scrolled": false
   },
   "outputs": [],
   "source": [
    "from GeoToolkit.Mag.DataIO import loadGRDFile\n",
    "dataGrid=loadGRDFile(MyText.get()) \n",
    "grid = Simulator.dataGridGeoref(dataGrid)\n",
    "display(grid)"
   ]
  },
  {
   "cell_type": "markdown",
   "metadata": {},
   "source": [
    "##  Input: GeoTiff"
   ]
  },
  {
   "cell_type": "code",
   "execution_count": null,
   "metadata": {},
   "outputs": [],
   "source": [
    "from GeoToolkit.Mag.DataIO import loadGeoTiffFile\n",
    "dataTiff=loadGeoTiffFile(MyText.get()) \n",
    "grid = Simulator.dataGridGeoref(dataTiff)  #define saveTiff\n",
    "display(grid)"
   ]
  },
  {
   "cell_type": "markdown",
   "metadata": {},
   "source": [
    "## Upward Continue from grid file"
   ]
  },
  {
   "cell_type": "code",
   "execution_count": null,
   "metadata": {},
   "outputs": [],
   "source": [
    "from GeoToolkit.Mag.DataIO import loadGRDFile\n",
    "dataGrid=loadGRDFile(MyText.get())\n",
    "selection = Simulator.gridFiltersWidget(dataGrid, omit=[gridFilter,ColorTransp,HSTransp,inc,dec,Contours,SunAzimuth,SunAngle,vScale])\n",
    "display(selection)"
   ]
  },
  {
   "cell_type": "code",
   "execution_count": null,
   "metadata": {},
   "outputs": [],
   "source": [
    "# button to save as grid.result\n",
    "from tkinter.filedialog import askdirectory\n",
    "from tkinter.filedialog import asksaveasfile\n",
    "window = Tk() # user input window\n",
    "\n",
    "tkinter.filedialog.asksaveasfile(selection.result) #changed bracket to selection.result\n",
    "def saveBox(\n",
    "            self,\n",
    "            title=None,\n",
    "            fileName=None,\n",
    "            dirName=None,\n",
    "            fileExt=\".grd\",  ###### check this\n",
    "            fileTypes=None,\n",
    "            asFile=False):\n",
    "        self.topLevel.update_idletasks()\n",
    "        if fileTypes is None:\n",
    "            fileTypes = [('all files', '*.*'), ('grid files', '.grd'),('GeoTiff files'),('.tiff')]\n",
    "        # define options for opening\n",
    "        options = {}\n",
    "        options['defaultextension'] = fileExt\n",
    "        options['filetypes'] = fileTypes\n",
    "        options['initialdir'] = dirName\n",
    "        options['initialfile'] = fileName\n",
    "        options['title'] = title\n",
    "\n",
    "        if asFile:\n",
    "            return filedialog.asksaveasfile(mode='w', **options)\n",
    "        # will return \"\" if cancelled\n",
    "        else:\n",
    "            return filedialog.asksaveasfilename(**options) "
   ]
  },
  {
   "cell_type": "markdown",
   "metadata": {},
   "source": [
    " "
   ]
  }
 ],
 "metadata": {
  "kernelspec": {
   "display_name": "Python 3",
   "language": "python",
   "name": "python3"
  },
  "language_info": {
   "codemirror_mode": {
    "name": "ipython",
    "version": 3
   },
   "file_extension": ".py",
   "mimetype": "text/x-python",
   "name": "python",
   "nbconvert_exporter": "python",
   "pygments_lexer": "ipython3",
   "version": "3.7.3"
  }
 },
 "nbformat": 4,
 "nbformat_minor": 2
}
