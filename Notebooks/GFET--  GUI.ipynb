{
 "cells": [
  {
   "cell_type": "code",
   "execution_count": null,
   "metadata": {},
   "outputs": [],
   "source": [
    "import sys\n",
    "sys.path.append('../')\n",
    "from GeoToolkit.Mag import Mag, ProblemSetter, MathUtils, Simulator, DataIO\n",
    "from tkinter import *\n",
    "import tkinter as tk\n",
    "import tkinter.filedialog\n",
    "from tkinter.filedialog import askdirectory\n",
    "from tkinter.filedialog import askopenfilename\n",
    "window = Tk() # user input window\n",
    "Tk().withdraw()\n",
    "MyText= StringVar()\n",
    "\n",
    "def DisplayDir(Var):\n",
    "    feedback = askopenfilename()\n",
    "    Var.set(feedback)\n",
    "\n",
    "Button(window, text='Browse File', command=DisplayDir(MyText)).pack()\n",
    "Entry(window, textvariable = MyText).pack()\n",
    "Button(window, text='OK', command=window.destroy).pack()\n",
    "mainloop()"
   ]
  },
  {
   "cell_type": "code",
   "execution_count": 3,
   "metadata": {},
   "outputs": [
    {
     "ename": "ModuleNotFoundError",
     "evalue": "No module named 'Tkinter'",
     "output_type": "error",
     "traceback": [
      "\u001b[1;31m---------------------------------------------------------------------------\u001b[0m",
      "\u001b[1;31mModuleNotFoundError\u001b[0m                       Traceback (most recent call last)",
      "\u001b[1;32m<ipython-input-3-e50c7fc7719c>\u001b[0m in \u001b[0;36m<module>\u001b[1;34m\u001b[0m\n\u001b[1;32m----> 1\u001b[1;33m \u001b[1;32mimport\u001b[0m \u001b[0mTkinter\u001b[0m\u001b[1;33m,\u001b[0m \u001b[0mtkFileDialog\u001b[0m\u001b[1;33m\u001b[0m\u001b[1;33m\u001b[0m\u001b[0m\n\u001b[0m\u001b[0;32m      2\u001b[0m \u001b[1;33m\u001b[0m\u001b[0m\n\u001b[0;32m      3\u001b[0m \u001b[0mroot\u001b[0m \u001b[1;33m=\u001b[0m \u001b[0mTkinter\u001b[0m\u001b[1;33m.\u001b[0m\u001b[0mTk\u001b[0m\u001b[1;33m(\u001b[0m\u001b[1;33m)\u001b[0m\u001b[1;33m\u001b[0m\u001b[1;33m\u001b[0m\u001b[0m\n\u001b[0;32m      4\u001b[0m \u001b[0mdirname\u001b[0m \u001b[1;33m=\u001b[0m \u001b[0mtkFileDialog\u001b[0m\u001b[1;33m.\u001b[0m\u001b[0maskdirectory\u001b[0m\u001b[1;33m(\u001b[0m\u001b[0mparent\u001b[0m\u001b[1;33m=\u001b[0m\u001b[0mroot\u001b[0m\u001b[1;33m,\u001b[0m\u001b[0minitialdir\u001b[0m\u001b[1;33m=\u001b[0m\u001b[1;34m\"/\"\u001b[0m\u001b[1;33m,\u001b[0m\u001b[0mtitle\u001b[0m\u001b[1;33m=\u001b[0m\u001b[1;34m'Please select a directory'\u001b[0m\u001b[1;33m)\u001b[0m\u001b[1;33m\u001b[0m\u001b[1;33m\u001b[0m\u001b[0m\n\u001b[0;32m      5\u001b[0m \u001b[1;32mif\u001b[0m \u001b[0mlen\u001b[0m\u001b[1;33m(\u001b[0m\u001b[0mdirname\u001b[0m \u001b[1;33m)\u001b[0m \u001b[1;33m>\u001b[0m \u001b[1;36m0\u001b[0m\u001b[1;33m:\u001b[0m\u001b[1;33m\u001b[0m\u001b[1;33m\u001b[0m\u001b[0m\n",
      "\u001b[1;31mModuleNotFoundError\u001b[0m: No module named 'Tkinter'"
     ]
    }
   ],
   "source": [
    "import Tkinter, tkFileDialog\n",
    "\n",
    "root = Tkinter.Tk()\n",
    "dirname = tkFileDialog.askdirectory(parent=root,initialdir=\"/\",title='Please select a directory')\n",
    "if len(dirname ) > 0:\n",
    "    print (\"You chose %s\" % dirname )\n",
    "\n",
    "\n",
    "# ======== Select a file for opening:\n",
    "import Tkinter,tkFileDialog\n",
    "\n",
    "root = Tkinter.Tk()\n",
    "file = tkFileDialog.askopenfile(parent=root,mode='rb',title='Choose a file')\n",
    "if file != None:\n",
    "    data = file.read()\n",
    "    file.close()\n",
    "    print (\"File is selected.\" % len(data))\n",
    "\n",
    "\n",
    "# ======== \"Save as\" dialog:\n",
    "import Tkinter,tkFileDialog\n",
    "\n",
    "myFormats = [\n",
    "    ('Windows Bitmap','*.bmp'),\n",
    "    ('Portable Network Graphics','*.png'),\n",
    "    ('JPEG / JFIF','*.jpg'),\n",
    "    ('CompuServer GIF','*.gif'),\n",
    "    ]\n",
    "\n",
    "root = Tkinter.Tk()\n",
    "fileName = tkFileDialog.asksaveasfilename(parent=root,filetypes=myFormats ,title=\"Save the image as...\")\n",
    "if len(fileName ) > 0:\n",
    "    print( \"Now saving under\")\n",
    "\n"
   ]
  },
  {
   "cell_type": "code",
   "execution_count": null,
   "metadata": {},
   "outputs": [],
   "source": [
    "\n"
   ]
  },
  {
   "cell_type": "code",
   "execution_count": null,
   "metadata": {},
   "outputs": [],
   "source": []
  }
 ],
 "metadata": {
  "kernelspec": {
   "display_name": "Python 3",
   "language": "python",
   "name": "python3"
  },
  "language_info": {
   "codemirror_mode": {
    "name": "ipython",
    "version": 3
   },
   "file_extension": ".py",
   "mimetype": "text/x-python",
   "name": "python",
   "nbconvert_exporter": "python",
   "pygments_lexer": "ipython3",
   "version": "3.7.3"
  }
 },
 "nbformat": 4,
 "nbformat_minor": 2
}
