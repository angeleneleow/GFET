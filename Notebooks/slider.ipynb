{
 "cells": [
  {
   "cell_type": "markdown",
   "metadata": {},
   "source": [
    "# slider "
   ]
  },
  {
   "cell_type": "code",
   "execution_count": null,
   "metadata": {},
   "outputs": [],
   "source": [
    "import numpy as np\n",
    "import matplotlib.pyplot as plt\n",
    "from matplotlib.widgets import Slider, Button\n",
    "\n",
    "ax = plt.subplot(111)\n",
    "plt.subplots_adjust(left=0.25, bottom=0.25)\n",
    "img_data = path(r'Z:\\Projects\\GeophysicsMachineLearning\\GTG\\Output Feature Files\\Menindee_RTP\\input')\n",
    "c_min = 0\n",
    "c_max = 1\n",
    "\n",
    "img = ax.imshow(img_data, interpolation='nearest')\n",
    "cb = plt.colorbar(img)\n",
    "axcolor = 'lightgoldenrodyellow'\n",
    "\n",
    "\n",
    "ax_cmin = plt.axes([0.25, 0.1, 0.65, 0.03])\n",
    "ax_cmax  = plt.axes([0.25, 0.15, 0.65, 0.03])\n",
    "\n",
    "s_cmin = Slider(ax_cmin, 'min', 0, 1, valinit=c_min)\n",
    "s_cmax = Slider(ax_cmax, 'max', 0, 1, valinit=c_max)\n",
    "\n",
    "def update(val, s=None):\n",
    "    _cmin = s_cmin.val\n",
    "    _cmax = s_cmax.val\n",
    "    img.set_clim([_cmin, _cmax])\n",
    "    plt.draw()\n",
    "\n",
    "s_cmin.on_changed(update)\n",
    "s_cmax.on_changed(update)\n",
    "\n",
    "resetax = plt.axes([0.8, 0.025, 0.1, 0.04])\n",
    "button = Button(resetax, 'Reset', color=axcolor, hovercolor='0.975')\n",
    "def reset(event):\n",
    "    s_cmin.reset()\n",
    "    s_cmax.reset()\n",
    "button.on_clicked(reset)\n",
    "\n",
    "plt.show()"
   ]
  }
 ],
 "metadata": {
  "kernelspec": {
   "display_name": "Python 3",
   "language": "python",
   "name": "python3"
  },
  "language_info": {
   "codemirror_mode": {
    "name": "ipython",
    "version": 3
   },
   "file_extension": ".py",
   "mimetype": "text/x-python",
   "name": "python",
   "nbconvert_exporter": "python",
   "pygments_lexer": "ipython3",
   "version": "3.7.3"
  }
 },
 "nbformat": 4,
 "nbformat_minor": 2
}
