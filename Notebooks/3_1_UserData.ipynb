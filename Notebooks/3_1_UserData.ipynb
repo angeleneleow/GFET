{
 "cells": [
  {
<<<<<<< HEAD
   "cell_type": "code",
   "execution_count": 1,
   "metadata": {},
   "outputs": [
    {
     "name": "stdout",
     "output_type": "stream",
     "text": [
      "Collecting geosoft\n",
      "  Using cached https://files.pythonhosted.org/packages/ce/f0/9aecbe2aabac9d26a95103bedb890bfe9d45cd7562417426ec2a51f8fa36/geosoft-9.6.0-cp36-none-win_amd64.whl\n",
      "Collecting pandas (from geosoft)\n",
      "  Using cached https://files.pythonhosted.org/packages/6e/f6/7c5053cd6cae3ae099f4f950b9a5b4cb881432febdf2184f4b2d2d6de357/pandas-0.25.0-cp36-cp36m-win_amd64.whl\n",
      "Requirement already satisfied: numpy in c:\\program files\\python36\\lib\\site-packages (from geosoft) (1.14.2)\n",
      "Collecting requests (from geosoft)\n",
      "  Using cached https://files.pythonhosted.org/packages/51/bd/23c926cd341ea6b7dd0b2a00aba99ae0f828be89d72b2190f27c11d4b7fb/requests-2.22.0-py2.py3-none-any.whl\n",
      "Collecting pytz>=2017.2 (from pandas->geosoft)\n",
      "  Using cached https://files.pythonhosted.org/packages/87/76/46d697698a143e05f77bec5a526bf4e56a0be61d63425b68f4ba553b51f2/pytz-2019.2-py2.py3-none-any.whl\n",
      "Collecting python-dateutil>=2.6.1 (from pandas->geosoft)\n",
      "  Using cached https://files.pythonhosted.org/packages/41/17/c62faccbfbd163c7f57f3844689e3a78bae1f403648a6afb1d0866d87fbb/python_dateutil-2.8.0-py2.py3-none-any.whl\n",
      "Collecting chardet<3.1.0,>=3.0.2 (from requests->geosoft)\n",
      "  Using cached https://files.pythonhosted.org/packages/bc/a9/01ffebfb562e4274b6487b4bb1ddec7ca55ec7510b22e4c51f14098443b8/chardet-3.0.4-py2.py3-none-any.whl\n",
      "Collecting idna<2.9,>=2.5 (from requests->geosoft)\n",
      "  Using cached https://files.pythonhosted.org/packages/14/2c/cd551d81dbe15200be1cf41cd03869a46fe7226e7450af7a6545bfc474c9/idna-2.8-py2.py3-none-any.whl\n",
      "Collecting certifi>=2017.4.17 (from requests->geosoft)\n",
      "  Using cached https://files.pythonhosted.org/packages/69/1b/b853c7a9d4f6a6d00749e94eb6f3a041e342a885b87340b79c1ef73e3a78/certifi-2019.6.16-py2.py3-none-any.whl\n",
      "Collecting urllib3!=1.25.0,!=1.25.1,<1.26,>=1.21.1 (from requests->geosoft)\n",
      "  Using cached https://files.pythonhosted.org/packages/e6/60/247f23a7121ae632d62811ba7f273d0e58972d75e58a94d329d51550a47d/urllib3-1.25.3-py2.py3-none-any.whl\n",
      "Requirement already satisfied: six>=1.5 in c:\\program files\\python36\\lib\\site-packages (from python-dateutil>=2.6.1->pandas->geosoft) (1.11.0)\n",
      "Installing collected packages: pytz, python-dateutil, pandas, chardet, idna, certifi, urllib3, requests, geosoft\n"
     ]
    },
    {
     "name": "stderr",
     "output_type": "stream",
     "text": [
      "ERROR: Could not install packages due to an EnvironmentError: [WinError 5] Access is denied: 'c:\\\\program files\\\\python36\\\\Lib\\\\site-packages\\\\pytz'\n",
      "Consider using the `--user` option or check the permissions.\n",
      "\n",
      "WARNING: You are using pip version 19.1.1, however version 19.2.2 is available.\n",
      "You should consider upgrading via the 'python -m pip install --upgrade pip' command.\n"
     ]
    }
   ],
   "source": [
    "import os\n",
    "if os.name == 'nt':\n",
    "    !pip install geosoft"
   ]
  },
  {
   "cell_type": "code",
   "execution_count": 2,
   "metadata": {},
   "outputs": [
    {
     "name": "stderr",
     "output_type": "stream",
     "text": [
      "C:\\Users\\aleow\\Anaconda3\\lib\\site-packages\\dask\\config.py:168: YAMLLoadWarning: calling yaml.load() without Loader=... is deprecated, as the default Loader is unsafe. Please read https://msg.pyyaml.org/load for full details.\n",
      "  data = yaml.load(f.read()) or {}\n"
     ]
    }
   ],
   "source": [
    "import sys\n",
    "sys.path.append(\"../\")\n",
    "from GeoToolkit.Mag import Mag, ProblemSetter, MathUtils, Simulator, DataIO"
   ]
  },
  {
   "cell_type": "code",
   "execution_count": 9,
   "metadata": {
    "scrolled": false
   },
=======
   "cell_type": "code",
   "execution_count": 1,
   "metadata": {},
>>>>>>> a24e32f69b32deed2f829e29ea52c5bf4dee6c9d
   "outputs": [
    {
     "name": "stdout",
     "output_type": "stream",
     "text": [
<<<<<<< HEAD
      "\n"
     ]
    },
    {
     "data": {
      "application/vnd.jupyter.widget-view+json": {
       "model_id": "6425b9b14b4f4338a87b3a3594189a65",
       "version_major": 2,
       "version_minor": 0
      },
      "text/plain": [
       "interactive(children=(RadioButtons(description='File Type:', index=1, options=('Local', 'Cloud'), value='Cloud…"
      ]
     },
     "metadata": {},
     "output_type": "display_data"
=======
      "Requirement already satisfied: geosoft in c:\\users\\aleow\\miniconda3\\lib\\site-packages (9.6.0)\n",
      "Requirement already satisfied: requests in c:\\users\\aleow\\miniconda3\\lib\\site-packages (from geosoft) (2.22.0)\n",
      "Requirement already satisfied: pandas in c:\\users\\aleow\\miniconda3\\lib\\site-packages (from geosoft) (0.25.0)\n",
      "Requirement already satisfied: numpy in c:\\users\\aleow\\miniconda3\\lib\\site-packages (from geosoft) (1.16.4)\n",
      "Requirement already satisfied: chardet<3.1.0,>=3.0.2 in c:\\users\\aleow\\miniconda3\\lib\\site-packages (from requests->geosoft) (3.0.4)\n",
      "Requirement already satisfied: urllib3!=1.25.0,!=1.25.1,<1.26,>=1.21.1 in c:\\users\\aleow\\miniconda3\\lib\\site-packages (from requests->geosoft) (1.24.2)\n",
      "Requirement already satisfied: certifi>=2017.4.17 in c:\\users\\aleow\\miniconda3\\lib\\site-packages (from requests->geosoft) (2019.6.16)\n",
      "Requirement already satisfied: idna<2.9,>=2.5 in c:\\users\\aleow\\miniconda3\\lib\\site-packages (from requests->geosoft) (2.8)\n",
      "Requirement already satisfied: python-dateutil>=2.6.1 in c:\\users\\aleow\\miniconda3\\lib\\site-packages (from pandas->geosoft) (2.8.0)\n",
      "Requirement already satisfied: pytz>=2017.2 in c:\\users\\aleow\\miniconda3\\lib\\site-packages (from pandas->geosoft) (2019.1)\n",
      "Requirement already satisfied: six>=1.5 in c:\\users\\aleow\\miniconda3\\lib\\site-packages (from python-dateutil>=2.6.1->pandas->geosoft) (1.12.0)\n"
     ]
>>>>>>> a24e32f69b32deed2f829e29ea52c5bf4dee6c9d
    }
   ],
   "source": [
    "download = DataIO.fetchData(path=r\"./assets\", localCloud='Cloud')\n",
    "display(download)"
   ]
  },
  {
<<<<<<< HEAD
   "cell_type": "code",
   "execution_count": 10,
   "metadata": {},
   "outputs": [
    {
     "data": {
      "application/vnd.jupyter.widget-view+json": {
       "model_id": "4878bb1e62ce4723b51732451cff207d",
       "version_major": 2,
       "version_minor": 0
      },
      "text/plain": [
       "interactive(children=(FloatSlider(value=4.963277472299524, continuous_update=False, description='East', max=12…"
      ]
     },
     "metadata": {},
     "output_type": "display_data"
    }
   ],
   "source": [
    "if download.result is not None:\n",
    "    selection = Simulator.setDataExtentWidget(download.result[0])\n",
    "    display(selection)"
   ]
  },
  {
   "cell_type": "code",
   "execution_count": 11,
   "metadata": {
    "scrolled": false
   },
   "outputs": [
    {
     "ename": "AttributeError",
     "evalue": "'str' object has no attribute 'observe'",
     "output_type": "error",
     "traceback": [
      "\u001b[1;31m---------------------------------------------------------------------------\u001b[0m",
      "\u001b[1;31mAttributeError\u001b[0m                            Traceback (most recent call last)",
      "\u001b[1;32m<ipython-input-11-337edf6a9f1c>\u001b[0m in \u001b[0;36m<module>\u001b[1;34m\u001b[0m\n\u001b[0;32m      1\u001b[0m \u001b[1;32mif\u001b[0m \u001b[0mdownload\u001b[0m\u001b[1;33m.\u001b[0m\u001b[0mresult\u001b[0m \u001b[1;32mis\u001b[0m \u001b[1;32mnot\u001b[0m \u001b[1;32mNone\u001b[0m\u001b[1;33m:\u001b[0m\u001b[1;33m\u001b[0m\u001b[1;33m\u001b[0m\u001b[0m\n\u001b[1;32m----> 2\u001b[1;33m     \u001b[0mgrid\u001b[0m \u001b[1;33m=\u001b[0m \u001b[0mSimulator\u001b[0m\u001b[1;33m.\u001b[0m\u001b[0mdataGridGeoref\u001b[0m\u001b[1;33m(\u001b[0m\u001b[0mselection\u001b[0m\u001b[1;33m.\u001b[0m\u001b[0mresult\u001b[0m\u001b[1;33m)\u001b[0m\u001b[1;33m\u001b[0m\u001b[1;33m\u001b[0m\u001b[0m\n\u001b[0m\u001b[0;32m      3\u001b[0m     \u001b[0mdisplay\u001b[0m\u001b[1;33m(\u001b[0m\u001b[0mgrid\u001b[0m\u001b[1;33m)\u001b[0m\u001b[1;33m\u001b[0m\u001b[1;33m\u001b[0m\u001b[0m\n\u001b[0;32m      4\u001b[0m \u001b[1;33m\u001b[0m\u001b[0m\n\u001b[0;32m      5\u001b[0m  \u001b[1;31m# make sure to type everything before pressing Reduce to Pole\u001b[0m\u001b[1;33m\u001b[0m\u001b[1;33m\u001b[0m\u001b[1;33m\u001b[0m\u001b[0m\n",
      "\u001b[1;32mM:\\aleow\\Toolkit\\GeoToolkit\\Mag\\Simulator.py\u001b[0m in \u001b[0;36mdataGridGeoref\u001b[1;34m(gridObject, EPSGcode, saveAs, shapeFile, inc, dec, ndv, applyRTP, omit, units)\u001b[0m\n\u001b[0;32m   2836\u001b[0m             \u001b[0mwidgList\u001b[0m \u001b[1;33m+=\u001b[0m \u001b[1;33m[\u001b[0m\u001b[0mkeys\u001b[0m\u001b[1;33m[\u001b[0m\u001b[0mkey\u001b[0m\u001b[1;33m]\u001b[0m\u001b[1;33m]\u001b[0m\u001b[1;33m\u001b[0m\u001b[1;33m\u001b[0m\u001b[0m\n\u001b[0;32m   2837\u001b[0m \u001b[1;33m\u001b[0m\u001b[0m\n\u001b[1;32m-> 2838\u001b[1;33m     \u001b[0mout\u001b[0m \u001b[1;33m=\u001b[0m \u001b[0mwidgets\u001b[0m\u001b[1;33m.\u001b[0m\u001b[0minteractive_output\u001b[0m\u001b[1;33m(\u001b[0m\u001b[0mplotWidget\u001b[0m\u001b[1;33m,\u001b[0m \u001b[0mkeys\u001b[0m\u001b[1;33m)\u001b[0m\u001b[1;33m\u001b[0m\u001b[1;33m\u001b[0m\u001b[0m\n\u001b[0m\u001b[0;32m   2839\u001b[0m \u001b[1;33m\u001b[0m\u001b[0m\n\u001b[0;32m   2840\u001b[0m     left = widgets.VBox(\n",
      "\u001b[1;32m~\\Anaconda3\\lib\\site-packages\\ipywidgets\\widgets\\interaction.py\u001b[0m in \u001b[0;36minteractive_output\u001b[1;34m(f, controls)\u001b[0m\n\u001b[0;32m     75\u001b[0m             \u001b[0mshow_inline_matplotlib_plots\u001b[0m\u001b[1;33m(\u001b[0m\u001b[1;33m)\u001b[0m\u001b[1;33m\u001b[0m\u001b[1;33m\u001b[0m\u001b[0m\n\u001b[0;32m     76\u001b[0m     \u001b[1;32mfor\u001b[0m \u001b[0mk\u001b[0m\u001b[1;33m,\u001b[0m\u001b[0mw\u001b[0m \u001b[1;32min\u001b[0m \u001b[0mcontrols\u001b[0m\u001b[1;33m.\u001b[0m\u001b[0mitems\u001b[0m\u001b[1;33m(\u001b[0m\u001b[1;33m)\u001b[0m\u001b[1;33m:\u001b[0m\u001b[1;33m\u001b[0m\u001b[1;33m\u001b[0m\u001b[0m\n\u001b[1;32m---> 77\u001b[1;33m         \u001b[0mw\u001b[0m\u001b[1;33m.\u001b[0m\u001b[0mobserve\u001b[0m\u001b[1;33m(\u001b[0m\u001b[0mobserver\u001b[0m\u001b[1;33m,\u001b[0m \u001b[1;34m'value'\u001b[0m\u001b[1;33m)\u001b[0m\u001b[1;33m\u001b[0m\u001b[1;33m\u001b[0m\u001b[0m\n\u001b[0m\u001b[0;32m     78\u001b[0m     \u001b[0mshow_inline_matplotlib_plots\u001b[0m\u001b[1;33m(\u001b[0m\u001b[1;33m)\u001b[0m\u001b[1;33m\u001b[0m\u001b[1;33m\u001b[0m\u001b[0m\n\u001b[0;32m     79\u001b[0m     \u001b[0mobserver\u001b[0m\u001b[1;33m(\u001b[0m\u001b[1;32mNone\u001b[0m\u001b[1;33m)\u001b[0m\u001b[1;33m\u001b[0m\u001b[1;33m\u001b[0m\u001b[0m\n",
      "\u001b[1;31mAttributeError\u001b[0m: 'str' object has no attribute 'observe'"
     ]
    }
   ],
   "source": [
    "if download.result is not None:\n",
    "    grid = Simulator.dataGridGeoref(selection.result)\n",
    "    display(grid)\n",
    "\n",
    " # make sure to type everything before pressing Reduce to Pole "
   ]
  },
  {
   "cell_type": "code",
   "execution_count": null,
   "metadata": {},
   "outputs": [],
   "source": [
    "\n"
   ]
  },
  {
   "cell_type": "code",
   "execution_count": 6,
   "metadata": {},
   "outputs": [
    {
     "ename": "NameError",
     "evalue": "name 'grid' is not defined",
     "output_type": "error",
     "traceback": [
      "\u001b[1;31m---------------------------------------------------------------------------\u001b[0m",
      "\u001b[1;31mNameError\u001b[0m                                 Traceback (most recent call last)",
      "\u001b[1;32m<ipython-input-6-f23f8e649e64>\u001b[0m in \u001b[0;36m<module>\u001b[1;34m\u001b[0m\n\u001b[1;32m----> 1\u001b[1;33m \u001b[0mgrid\u001b[0m\u001b[1;33m.\u001b[0m\u001b[0mresult\u001b[0m\u001b[1;33m\u001b[0m\u001b[1;33m\u001b[0m\u001b[0m\n\u001b[0m",
      "\u001b[1;31mNameError\u001b[0m: name 'grid' is not defined"
     ]
    }
   ],
   "source": [
    "grid.result\n"
   ]
  },
  {
=======
   "cell_type": "code",
   "execution_count": 2,
   "metadata": {},
   "outputs": [],
   "source": [
    "import sys\n",
    "sys.path.append(\"../\")\n",
    "from GeoToolkit.Mag import Mag, ProblemSetter, MathUtils, Simulator, DataIO"
   ]
  },
  {
>>>>>>> a24e32f69b32deed2f829e29ea52c5bf4dee6c9d
   "cell_type": "code",
   "execution_count": 3,
   "metadata": {
    "scrolled": true
   },
   "outputs": [
    {
     "name": "stdout",
     "output_type": "stream",
     "text": [
      "\n"
     ]
    },
    {
     "data": {
      "application/vnd.jupyter.widget-view+json": {
       "model_id": "d0c3e66364a049b7bbcc50040b37c5a5",
       "version_major": 2,
       "version_minor": 0
      },
      "text/plain": [
       "interactive(children=(RadioButtons(description='File Type:', index=1, options=('Local', 'Cloud'), value='Cloud…"
      ]
     },
     "metadata": {},
     "output_type": "display_data"
    }
   ],
   "source": [
<<<<<<< HEAD
    "if download.result is not None:\n",
    "    selection = Simulator.setDataExtentWidget(grid.result)\n",
    "    display(selection)\n",
    "    \n"
=======
    "download = DataIO.fetchData(path=r\"D:\\aleow\\input\\alaska, yukon\\alaska-yukon-crop\", localCloud='Cloud')\n",
    "display(download)"
>>>>>>> a24e32f69b32deed2f829e29ea52c5bf4dee6c9d
   ]
  },
  {
   "cell_type": "raw",
   "metadata": {},
   "source": []
  },
  {
   "cell_type": "code",
   "execution_count": null,
   "metadata": {},
   "outputs": [],
   "source": [
    "import matplotlib.pyplot as plt\n",
    "import ipywidgets as widgets\n",
    "\n",
    "def saveFig(fig_id, tight_layout=True, fig_extension=\"png\", resolution=300):\n",
    "            path = os.path.join(IMAGES_PATH, fig_id + fig_extension)\n",
    "            print(\"Saving figure\", fig_id)\n",
    "\n",
    "            if tight_layout:\n",
    "                plt.tight_layout()\n",
    "                plt.savefig(path, format=fig_extension, dpi=resolution)\n"
   ]
  },
  {
   "cell_type": "code",
   "execution_count": 8,
   "metadata": {},
   "outputs": [
    {
     "data": {
      "application/vnd.jupyter.widget-view+json": {
       "model_id": "0450dc95c1234f58816a2d2105adbf6a",
       "version_major": 2,
       "version_minor": 0
      },
      "text/plain": [
       "interactive(children=(FloatSlider(value=681100.0, continuous_update=False, description='East', max=705650.0, m…"
      ]
     },
     "metadata": {},
     "output_type": "display_data"
    },
    {
     "name": "stdout",
     "output_type": "stream",
     "text": [
      "Image saved as: ./Output/Cropping\n"
     ]
    }
   ],
   "source": [
<<<<<<< HEAD
    " if SaveImage:\n",
    "\n",
    "        if saveJPEG is None:\n",
    "            saveJPEG = \n",
    "\n",
    "        plt.savefig(saveAs + \".png\", dpi=dpi)\n",
    "        plt.close()\n",
    "\n",
    "        img = np.asarray(PIL.Image.open(saveAs + \".png\"))"
=======
    "if download.result is not None:\n",
    "    selection = Simulator.setDataExtentWidget(download.result[0])\n",
    "    display(selection)\n",
    "    \n",
    "\n"
>>>>>>> a24e32f69b32deed2f829e29ea52c5bf4dee6c9d
   ]
  },
  {
   "cell_type": "code",
<<<<<<< HEAD
   "execution_count": null,
   "metadata": {},
   "outputs": [],
   "source": [
    "import matplotlib\n",
    "from matplotlib import pyplot\n",
    "from pyplot import savefig\n",
    "matplotlib.pyplot.savefig()\n",
    "\n",
    "\n",
    "\n"
=======
   "execution_count": 10,
   "metadata": {
    "scrolled": false
   },
   "outputs": [
    {
     "data": {
      "application/vnd.jupyter.widget-view+json": {
       "model_id": "387e1bba41e5439ca946fee7aae30c50",
       "version_major": 2,
       "version_minor": 0
      },
      "text/plain": [
       "interactive(children=(Dropdown(description='ColorMap', index=3, options=('viridis', 'plasma', 'magma', 'RdBu_r…"
      ]
     },
     "metadata": {},
     "output_type": "display_data"
    },
    {
     "name": "stdout",
     "output_type": "stream",
     "text": [
      "Image saved as: ./Output/MyGeoTiff\n",
      "Image saved as: ./Output/hi\n"
     ]
    }
   ],
   "source": [
    "if download.result is not None:\n",
    "    grid = Simulator.dataGridGeoref(selection.result)\n",
    "    display(grid)\n",
    "\n",
    " "
   ]
  },
  {
   "cell_type": "code",
   "execution_count": 9,
   "metadata": {},
   "outputs": [],
   "source": [
    "import matplotlib.pyplot as plt\n",
    "import ipywidgets as widgets\n",
    "\n",
    "def saveFig(fig_id, tight_layout=True, fig_extension=\"png\", resolution=300):\n",
    "            path = os.path.join(IMAGES_PATH, fig_id + fig_extension)\n",
    "            print(\"Saving figure\", fig_id)\n",
    "\n",
    "            if tight_layout:\n",
    "                plt.tight_layout()\n",
    "                plt.savefig(path, format=fig_extension, dpi=resolution)\n"
   ]
  },
  {
   "cell_type": "code",
   "execution_count": 7,
   "metadata": {},
   "outputs": [
    {
     "ename": "SyntaxError",
     "evalue": "invalid syntax (<ipython-input-7-a4d50e2e2f21>, line 4)",
     "output_type": "error",
     "traceback": [
      "\u001b[1;36m  File \u001b[1;32m\"<ipython-input-7-a4d50e2e2f21>\"\u001b[1;36m, line \u001b[1;32m4\u001b[0m\n\u001b[1;33m    saveJPEG =\u001b[0m\n\u001b[1;37m               ^\u001b[0m\n\u001b[1;31mSyntaxError\u001b[0m\u001b[1;31m:\u001b[0m invalid syntax\n"
     ]
    }
   ],
   "source": [
    " if SaveImage:\n",
    "\n",
    "        if saveJPEG is None:\n",
    "            saveJPEG = \n",
    "\n",
    "        plt.savefig(saveAs + \".png\", dpi=dpi)\n",
    "        plt.close()\n",
    "\n",
    "        img = np.asarray(PIL.Image.open(saveAs + \".png\"))"
>>>>>>> a24e32f69b32deed2f829e29ea52c5bf4dee6c9d
   ]
  },
  {
   "cell_type": "code",
   "execution_count": null,
   "metadata": {},
   "outputs": [],
<<<<<<< HEAD
   "source": []
=======
   "source": [
    "import matplotlib\n",
    "from matplotlib import pyplot\n",
    "from pyplot import savefig\n",
    "matplotlib.pyplot.savefig()\n",
    "\n",
    "\n",
    "\n"
   ]
>>>>>>> a24e32f69b32deed2f829e29ea52c5bf4dee6c9d
  },
  {
   "cell_type": "code",
   "execution_count": null,
   "metadata": {},
   "outputs": [],
   "source": []
  },
  {
   "cell_type": "markdown",
   "metadata": {},
   "source": [
    "# Data visualization\n",
    "\n"
   ]
  },
  {
   "cell_type": "code",
<<<<<<< HEAD
   "execution_count": null,
   "metadata": {
    "scrolled": false
   },
   "outputs": [],
=======
   "execution_count": 11,
   "metadata": {
    "scrolled": false
   },
   "outputs": [
    {
     "data": {
      "application/vnd.jupyter.widget-view+json": {
       "model_id": "0bc1f05fa67b4bf8b1f48d7e285a0bbf",
       "version_major": 2,
       "version_minor": 0
      },
      "text/plain": [
       "HBox(children=(VBox(children=(Dropdown(description='ColorMap', index=3, options=('viridis', 'plasma', 'magma',…"
      ]
     },
     "metadata": {},
     "output_type": "display_data"
    },
    {
     "name": "stdout",
     "output_type": "stream",
     "text": [
      "Image saved as: ./Output/DataHillshade\n",
      "Image saved as: ./Output/boo\n"
     ]
    }
   ],
>>>>>>> a24e32f69b32deed2f829e29ea52c5bf4dee6c9d
   "source": [
    "if download.result is not None:\n",
    "    view = Simulator.dataHillsideWidget(grid.result)\n",
    "    display(view)"
   ]
  },
  {
   "cell_type": "code",
   "execution_count": null,
   "metadata": {},
   "outputs": [],
   "source": []
  },
  {
   "cell_type": "markdown",
   "metadata": {},
   "source": [
    "# 2D filters\n",
    "\n",
    "\n"
   ]
  },
  {
   "cell_type": "code",
<<<<<<< HEAD
   "execution_count": null,
   "metadata": {
    "scrolled": false
   },
   "outputs": [],
=======
   "execution_count": 12,
   "metadata": {
    "scrolled": true
   },
   "outputs": [
    {
     "data": {
      "application/vnd.jupyter.widget-view+json": {
       "model_id": "3e3e229ea5d540a2836e42274df1178c",
       "version_major": 2,
       "version_minor": 0
      },
      "text/plain": [
       "HBox(children=(VBox(children=(Dropdown(description='Grid Filters', index=1, options=('TMI', 'derivativeX', 'de…"
      ]
     },
     "metadata": {},
     "output_type": "display_data"
    },
    {
     "name": "stdout",
     "output_type": "stream",
     "text": [
      "Image saved as: ./Output/MyGeoTiff_derivativeX\n"
     ]
    }
   ],
>>>>>>> a24e32f69b32deed2f829e29ea52c5bf4dee6c9d
   "source": [
    "if download.result is not None:\n",
    "    view = Simulator.gridFiltersWidget(grid.result)\n",
    "    display(view)"
   ]
  },
  {
   "cell_type": "code",
   "execution_count": null,
<<<<<<< HEAD
=======
   "metadata": {},
   "outputs": [],
   "source": [
    "\n"
   ]
  },
  {
   "cell_type": "code",
   "execution_count": null,
   "metadata": {},
   "outputs": [],
   "source": []
  },
  {
   "cell_type": "markdown",
>>>>>>> a24e32f69b32deed2f829e29ea52c5bf4dee6c9d
   "metadata": {},
   "outputs": [],
   "source": [
    "\n"
   ]
  },
  {
   "cell_type": "code",
<<<<<<< HEAD
   "execution_count": null,
   "metadata": {},
   "outputs": [],
   "source": []
  },
  {
   "cell_type": "markdown",
   "metadata": {},
   "source": [
    "# Tilt-depth depth to source estimation\n"
   ]
  },
  {
   "cell_type": "code",
   "execution_count": null,
   "metadata": {
    "scrolled": false
   },
   "outputs": [],
=======
   "execution_count": 13,
   "metadata": {
    "scrolled": false
   },
   "outputs": [
    {
     "data": {
      "application/vnd.jupyter.widget-view+json": {
       "model_id": "8fb2b0bd5a934c659e77358279597b2c",
       "version_major": 2,
       "version_minor": 0
      },
      "text/plain": [
       "HBox(children=(VBox(children=(FloatSlider(value=270.0, continuous_update=False, description='Sun Azimuth', max…"
      ]
     },
     "metadata": {},
     "output_type": "display_data"
    },
    {
     "name": "stdout",
     "output_type": "stream",
     "text": [
      "Image saved as: ./Output/MyGeoTiff\n"
     ]
    }
   ],
>>>>>>> a24e32f69b32deed2f829e29ea52c5bf4dee6c9d
   "source": [
    "if download.result is not None:\n",
    "    view = Simulator.gridTilt2Depth(grid.result)\n",
    "    display(view)"
   ]
  },
  {
   "cell_type": "code",
   "execution_count": null,
   "metadata": {},
   "outputs": [],
   "source": [
    "c_lowlim,c_uplim= np.percentile(data[ind], 5), np.percentile(data[ind], 95)"
   ]
  },
  {
   "cell_type": "markdown",
   "metadata": {},
   "source": [
    " "
   ]
  }
 ],
 "metadata": {
  "kernelspec": {
   "display_name": "Python 3",
   "language": "python",
   "name": "python3"
  },
  "language_info": {
   "codemirror_mode": {
    "name": "ipython",
    "version": 3
   },
   "file_extension": ".py",
   "mimetype": "text/x-python",
   "name": "python",
   "nbconvert_exporter": "python",
   "pygments_lexer": "ipython3",
   "version": "3.7.3"
  }
 },
 "nbformat": 4,
 "nbformat_minor": 2
}
