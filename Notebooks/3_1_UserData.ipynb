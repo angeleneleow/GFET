{
 "cells": [
  {
   "cell_type": "code",
   "execution_count": 1,
   "metadata": {},
   "outputs": [
    {
     "name": "stdout",
     "output_type": "stream",
     "text": [
      "Requirement already satisfied: geosoft in c:\\users\\aleow\\miniconda3\\lib\\site-packages (9.6.0)\n",
      "Requirement already satisfied: requests in c:\\users\\aleow\\miniconda3\\lib\\site-packages (from geosoft) (2.22.0)\n",
      "Requirement already satisfied: pandas in c:\\users\\aleow\\miniconda3\\lib\\site-packages (from geosoft) (0.25.0)\n",
      "Requirement already satisfied: numpy in c:\\users\\aleow\\miniconda3\\lib\\site-packages (from geosoft) (1.16.4)\n",
      "Requirement already satisfied: chardet<3.1.0,>=3.0.2 in c:\\users\\aleow\\miniconda3\\lib\\site-packages (from requests->geosoft) (3.0.4)\n",
      "Requirement already satisfied: urllib3!=1.25.0,!=1.25.1,<1.26,>=1.21.1 in c:\\users\\aleow\\miniconda3\\lib\\site-packages (from requests->geosoft) (1.24.2)\n",
      "Requirement already satisfied: certifi>=2017.4.17 in c:\\users\\aleow\\miniconda3\\lib\\site-packages (from requests->geosoft) (2019.6.16)\n",
      "Requirement already satisfied: idna<2.9,>=2.5 in c:\\users\\aleow\\miniconda3\\lib\\site-packages (from requests->geosoft) (2.8)\n",
      "Requirement already satisfied: python-dateutil>=2.6.1 in c:\\users\\aleow\\miniconda3\\lib\\site-packages (from pandas->geosoft) (2.8.0)\n",
      "Requirement already satisfied: pytz>=2017.2 in c:\\users\\aleow\\miniconda3\\lib\\site-packages (from pandas->geosoft) (2019.1)\n",
      "Requirement already satisfied: six>=1.5 in c:\\users\\aleow\\miniconda3\\lib\\site-packages (from python-dateutil>=2.6.1->pandas->geosoft) (1.12.0)\n"
     ]
    }
   ],
   "source": [
    "import os\n",
    "if os.name == 'nt':\n",
    "    !pip install geosoft"
   ]
  },
  {
   "cell_type": "code",
   "execution_count": 2,
   "metadata": {},
   "outputs": [],
   "source": [
    "import sys\n",
    "sys.path.append(\"../\")\n",
    "from GeoToolkit.Mag import Mag, ProblemSetter, MathUtils, Simulator, DataIO"
   ]
  },
  {
   "cell_type": "code",
   "execution_count": 3,
   "metadata": {
    "scrolled": true
   },
   "outputs": [
    {
     "name": "stdout",
     "output_type": "stream",
     "text": [
      "\n"
     ]
    },
    {
     "data": {
      "application/vnd.jupyter.widget-view+json": {
       "model_id": "d0c3e66364a049b7bbcc50040b37c5a5",
       "version_major": 2,
       "version_minor": 0
      },
      "text/plain": [
       "interactive(children=(RadioButtons(description='File Type:', index=1, options=('Local', 'Cloud'), value='Cloud…"
      ]
     },
     "metadata": {},
     "output_type": "display_data"
    }
   ],
   "source": [
    "download = DataIO.fetchData(path=r\"D:\\aleow\\input\\alaska, yukon\\alaska-yukon-crop\", localCloud='Cloud')\n",
    "display(download)"
   ]
  },
  {
   "cell_type": "markdown",
   "metadata": {},
   "source": [
    "# Assign coordinate system and Earth's field parameters\n",
    "\n",
    "Run the cell below to see the data. It may take a moment to appear. If you have submitted CSV data you will be prompted to grid it.\n",
    "\n",
    "***Warning*** For CSV file format: MinimumCurvature interpolation is computationally expensive. For CSV > 10,000 data points, consider downsampling prior to uploading the data.\n",
    "\n",
    "You will need to assign the correct coordinate system for your dataset (the coordinate system your data was collected in), using an EPSG code. The EPSG code will be automatically loaded below if the file is a GeoTiff or a .grd file. EPSG codes can easily be found with a Google search (e.g. EPSG UTM Zone 09 N => 26909).\n",
    "\n",
    "In order to reduce the data to pole (which you need to do for certain applications like tilt-depth estimation), you must include the inclination and declination. This information may be available in associated data collection and processing reports, and is specific to the date and location of the magnetic survey. If it is not available, you can use the Fetch Inc/Dec button to find an approximate inclination and declination for that geographic region over a range of time. The user can choose the inclination and declination for a specific year or pick average values from those recorded between 2000 and 2018. ***Important***: the EPSG code needs to be set correctly to ensure the appropriate inclination and declination data are fetched. \n",
    "\n",
    "***Warning*** If you are testing out the example EMAG2 dataset, reducing to pole will require too much time, as the dataset is very large. It is advised to skip the RTP step for this example dataset. \n",
    "\n",
    "\n",
    "![set_inc_dec](./images/incl_decl_40per_ppt.png)\n"
   ]
  },
  {
   "cell_type": "code",
   "execution_count": 8,
   "metadata": {},
   "outputs": [
    {
     "data": {
      "application/vnd.jupyter.widget-view+json": {
       "model_id": "0450dc95c1234f58816a2d2105adbf6a",
       "version_major": 2,
       "version_minor": 0
      },
      "text/plain": [
       "interactive(children=(FloatSlider(value=681100.0, continuous_update=False, description='East', max=705650.0, m…"
      ]
     },
     "metadata": {},
     "output_type": "display_data"
    },
    {
     "name": "stdout",
     "output_type": "stream",
     "text": [
      "Image saved as: ./Output/Cropping\n"
     ]
    }
   ],
   "source": [
    "if download.result is not None:\n",
    "    selection = Simulator.setDataExtentWidget(download.result[0])\n",
    "    display(selection)\n",
    "    \n",
    "\n"
   ]
  },
  {
   "cell_type": "code",
   "execution_count": 10,
   "metadata": {
    "scrolled": false
   },
   "outputs": [
    {
     "data": {
      "application/vnd.jupyter.widget-view+json": {
       "model_id": "387e1bba41e5439ca946fee7aae30c50",
       "version_major": 2,
       "version_minor": 0
      },
      "text/plain": [
       "interactive(children=(Dropdown(description='ColorMap', index=3, options=('viridis', 'plasma', 'magma', 'RdBu_r…"
      ]
     },
     "metadata": {},
     "output_type": "display_data"
    },
    {
     "name": "stdout",
     "output_type": "stream",
     "text": [
      "Image saved as: ./Output/MyGeoTiff\n",
      "Image saved as: ./Output/hi\n"
     ]
    }
   ],
   "source": [
    "if download.result is not None:\n",
    "    grid = Simulator.dataGridGeoref(selection.result)\n",
    "    display(grid)\n",
    "\n",
    " "
   ]
  },
  {
   "cell_type": "code",
   "execution_count": 9,
   "metadata": {},
   "outputs": [],
   "source": [
    "import matplotlib.pyplot as plt\n",
    "import ipywidgets as widgets\n",
    "\n",
    "def saveFig(fig_id, tight_layout=True, fig_extension=\"png\", resolution=300):\n",
    "            path = os.path.join(IMAGES_PATH, fig_id + fig_extension)\n",
    "            print(\"Saving figure\", fig_id)\n",
    "\n",
    "            if tight_layout:\n",
    "                plt.tight_layout()\n",
    "                plt.savefig(path, format=fig_extension, dpi=resolution)\n"
   ]
  },
  {
   "cell_type": "code",
   "execution_count": 7,
   "metadata": {},
   "outputs": [
    {
     "ename": "SyntaxError",
     "evalue": "invalid syntax (<ipython-input-7-a4d50e2e2f21>, line 4)",
     "output_type": "error",
     "traceback": [
      "\u001b[1;36m  File \u001b[1;32m\"<ipython-input-7-a4d50e2e2f21>\"\u001b[1;36m, line \u001b[1;32m4\u001b[0m\n\u001b[1;33m    saveJPEG =\u001b[0m\n\u001b[1;37m               ^\u001b[0m\n\u001b[1;31mSyntaxError\u001b[0m\u001b[1;31m:\u001b[0m invalid syntax\n"
     ]
    }
   ],
   "source": [
    " if SaveImage:\n",
    "\n",
    "        if saveJPEG is None:\n",
    "            saveJPEG = \n",
    "\n",
    "        plt.savefig(saveAs + \".png\", dpi=dpi)\n",
    "        plt.close()\n",
    "\n",
    "        img = np.asarray(PIL.Image.open(saveAs + \".png\"))"
   ]
  },
  {
   "cell_type": "code",
   "execution_count": null,
   "metadata": {},
   "outputs": [],
   "source": [
    "import matplotlib\n",
    "from matplotlib import pyplot\n",
    "from pyplot import savefig\n",
    "matplotlib.pyplot.savefig()\n",
    "\n",
    "\n",
    "\n"
   ]
  },
  {
   "cell_type": "code",
   "execution_count": null,
   "metadata": {},
   "outputs": [],
   "source": []
  },
  {
   "cell_type": "markdown",
   "metadata": {},
   "source": [
    "# Data visualization\n",
    "\n",
    "Run the cell below. You can apply some basic visual enhancements here, and export the map. Or you can continue to the following cells to try 2D filters and tilt-depth estimation. If you change the data window size or location, you will have to re-run the subsequent cells. \n",
    "\n",
    "The finished map can be exported as a located image (GeoTiff) and loaded into any software that accepts these types of files, including Google Earth Pro and ArcMap. Give your file a unique name in the **'GeoTiff name'** box, and click on the **'Export geoTiff'** button. Specify the preferred coordinate system for your exported map in the EPSG code box. **If you are working online**, the exported file will be temporarily stored on the cloud in the Notebooks/Output folder accessed by clicking on the Jupyter icon (dashboard) in the top right hand corner of this notebook. \n",
    "\n",
    "![dashboard](./images/jupyter_icon_top_right_10_per_ppt.PNG)\n",
    "\n",
    "![output](./images/notebook_output_15per_ppt.png)\n",
    "\n",
    "\n",
    "[**If you have installed the Toolkit locally**](http://toolkit.geosci.xyz/content/installation.html), and you are running the notebook locally, the file will be stored in the Notebooks/Output folder on your computer. "
   ]
  },
  {
   "cell_type": "code",
   "execution_count": 11,
   "metadata": {
    "scrolled": false
   },
   "outputs": [
    {
     "data": {
      "application/vnd.jupyter.widget-view+json": {
       "model_id": "0bc1f05fa67b4bf8b1f48d7e285a0bbf",
       "version_major": 2,
       "version_minor": 0
      },
      "text/plain": [
       "HBox(children=(VBox(children=(Dropdown(description='ColorMap', index=3, options=('viridis', 'plasma', 'magma',…"
      ]
     },
     "metadata": {},
     "output_type": "display_data"
    },
    {
     "name": "stdout",
     "output_type": "stream",
     "text": [
      "Image saved as: ./Output/DataHillshade\n",
      "Image saved as: ./Output/boo\n"
     ]
    }
   ],
   "source": [
    "if download.result is not None:\n",
    "    view = Simulator.dataHillsideWidget(selection.result)\n",
    "    display(view)"
   ]
  },
  {
   "cell_type": "code",
   "execution_count": null,
   "metadata": {},
   "outputs": [],
   "source": []
  },
  {
   "cell_type": "markdown",
   "metadata": {},
   "source": [
    "# 2D filters\n",
    "\n",
    "Run the cell below to apply 2D data filters to your data. You can refer back to sections [2.1.4 (Synthetic case study)](http://toolkit.geosci.xyz/content/Demos/SyntheticFilters.html#synthetic-2d-magnetic-data-filters) and [2.2.2 (Geoscience BC Search II case study)](http://toolkit.geosci.xyz/content/Demos/SearchFilters.html#search-case-study-2d-magnetic-data-filters) to review applications of 2D filters. See the Data visualization section above for instructions on map export.\n"
   ]
  },
  {
   "cell_type": "code",
   "execution_count": 12,
   "metadata": {
    "scrolled": true
   },
   "outputs": [
    {
     "data": {
      "application/vnd.jupyter.widget-view+json": {
       "model_id": "3e3e229ea5d540a2836e42274df1178c",
       "version_major": 2,
       "version_minor": 0
      },
      "text/plain": [
       "HBox(children=(VBox(children=(Dropdown(description='Grid Filters', index=1, options=('TMI', 'derivativeX', 'de…"
      ]
     },
     "metadata": {},
     "output_type": "display_data"
    },
    {
     "name": "stdout",
     "output_type": "stream",
     "text": [
      "Image saved as: ./Output/MyGeoTiff_derivativeX\n"
     ]
    }
   ],
   "source": [
    "if download.result is not None:\n",
    "    view = Simulator.gridFiltersWidget(selection.result)\n",
    "    display(view)"
   ]
  },
  {
   "cell_type": "code",
   "execution_count": null,
   "metadata": {},
   "outputs": [],
   "source": [
    "\n"
   ]
  },
  {
   "cell_type": "code",
   "execution_count": null,
   "metadata": {},
   "outputs": [],
   "source": []
  },
  {
   "cell_type": "markdown",
   "metadata": {},
   "source": [
    "# Tilt-depth depth to source estimation\n",
    "\n",
    "Run the cell below to try source edge and depth estimation using the tilt-depth method. You can refer back to sections [2.1.5 (Synthetic case study)](http://toolkit.geosci.xyz/content/Demos/SyntheticTiltDepth.html#synthetic-edge-detection-and-depth-to-source) and [2.2.3 (Geoscience BC Search II case study)](http://toolkit.geosci.xyz/content/Demos/SearchTiltDepth.html#search-case-study-edge-detection-and-depth-to-source) to review applications of 2D filters. See the Data visualization section above for instructions on map export."
   ]
  },
  {
   "cell_type": "code",
   "execution_count": 13,
   "metadata": {
    "scrolled": false
   },
   "outputs": [
    {
     "data": {
      "application/vnd.jupyter.widget-view+json": {
       "model_id": "8fb2b0bd5a934c659e77358279597b2c",
       "version_major": 2,
       "version_minor": 0
      },
      "text/plain": [
       "HBox(children=(VBox(children=(FloatSlider(value=270.0, continuous_update=False, description='Sun Azimuth', max…"
      ]
     },
     "metadata": {},
     "output_type": "display_data"
    },
    {
     "name": "stdout",
     "output_type": "stream",
     "text": [
      "Image saved as: ./Output/MyGeoTiff\n"
     ]
    }
   ],
   "source": [
    "if download.result is not None:\n",
    "    view = Simulator.gridTilt2Depth(selection.result)\n",
    "    display(view)"
   ]
  },
  {
   "cell_type": "markdown",
   "metadata": {},
   "source": [
    " "
   ]
  }
 ],
 "metadata": {
  "kernelspec": {
   "display_name": "Python 3",
   "language": "python",
   "name": "python3"
  },
  "language_info": {
   "codemirror_mode": {
    "name": "ipython",
    "version": 3
   },
   "file_extension": ".py",
   "mimetype": "text/x-python",
   "name": "python",
   "nbconvert_exporter": "python",
   "pygments_lexer": "ipython3",
   "version": "3.7.3"
  }
 },
 "nbformat": 4,
 "nbformat_minor": 2
}
