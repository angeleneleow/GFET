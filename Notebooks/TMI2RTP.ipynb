{
 "cells": [
  {
   "cell_type": "markdown",
   "metadata": {},
   "source": [
    "# Select File"
   ]
  },
  {
   "cell_type": "code",
   "execution_count": 2,
   "metadata": {},
   "outputs": [
    {
     "name": "stderr",
     "output_type": "stream",
     "text": [
      "C:\\Users\\aleow\\Anaconda3\\lib\\site-packages\\dask\\config.py:168: YAMLLoadWarning: calling yaml.load() without Loader=... is deprecated, as the default Loader is unsafe. Please read https://msg.pyyaml.org/load for full details.\n",
      "  data = yaml.load(f.read()) or {}\n"
     ]
    }
   ],
   "source": [
    "import sys\n",
    "sys.path.append('../')\n",
    "from GeoToolkit.Mag import Mag, ProblemSetter, MathUtils, Simulator, DataIO\n",
    "from tkinter import *\n",
    "import tkinter as tk\n",
    "import tkinter.filedialog\n",
    "from tkinter.filedialog import askdirectory\n",
    "from tkinter.filedialog import askopenfilename\n",
    "\n",
    "\n",
    "\n",
    "def choose_path(self):\n",
    "        \"\"\"\n",
    "        Called when users press the 'Browse' button in order to choose a path on their system.\n",
    "        \"\"\"\n",
    "        current_path = self.getvalue()\n",
    "        new_path = None\n",
    "\n",
    "        # Lets users choose a new path.\n",
    "        if self.path_type == \"file\":\n",
    "            new_path = askopenfilename(title = self.askpath_title,\n",
    "                initialdir=os.path.dirname(current_path),\n",
    "                initialfile=os.path.basename(current_path), parent = get_parent_window(self), filetypes = self.file_types)\n",
    "\n",
    "        elif self.path_type == \"directory\":\n",
    "            new_path = askdirectory(title = self.askpath_title, initialdir=os.path.dirname(current_path), mustexist = True, parent = get_parent_window(self))\n",
    "\n",
    "        # Updates the text in the Entry with the new path name.\n",
    "        if new_path:\n",
    "            self.clear()\n",
    "            self.setvalue(new_path)\n",
    "\n",
    "        if hasattr(self.run_after_selection, \"__call__\"):\n",
    "            self.run_after_selection() "
   ]
  },
  {
   "cell_type": "code",
   "execution_count": 3,
   "metadata": {},
   "outputs": [
    {
     "ename": "SyntaxError",
     "evalue": "invalid syntax (<ipython-input-3-6fec6ab94c2d>, line 10)",
     "output_type": "error",
     "traceback": [
      "\u001b[1;36m  File \u001b[1;32m\"<ipython-input-3-6fec6ab94c2d>\"\u001b[1;36m, line \u001b[1;32m10\u001b[0m\n\u001b[1;33m    def loadFile\u001b[0m\n\u001b[1;37m                ^\u001b[0m\n\u001b[1;31mSyntaxError\u001b[0m\u001b[1;31m:\u001b[0m invalid syntax\n"
     ]
    }
   ],
   "source": [
    "import sys\n",
    "sys.path.append('../')\n",
    "from GeoToolkit.Mag import Mag, ProblemSetter, MathUtils, Simulator, DataIO\n",
    "from tkinter import *\n",
    "import tkinter as tk\n",
    "import tkinter.filedialog\n",
    "from tkinter.filedialog import askdirectory\n",
    "from tkinter.filedialog import askopenfilename\n",
    "\n",
    "def loadFile\n",
    "    filename = askopenfilename()\n",
    "    if filename:\n",
    "        print(\"selected:\", filename) \n",
    "    else:\n",
    "        print (\"file not selected\")\n",
    "\n",
    "mGui = tk.Tk()\n",
    "browsebutton = tk.Button(mGui,text='Browse',command=loadFile)\n",
    "browsebutton.pack()\n",
    "\n",
    "mGui.mainloop()"
   ]
  },
  {
   "cell_type": "markdown",
   "metadata": {},
   "source": [
    "# TMI2RTP  \n",
    "###### grd file"
   ]
  },
  {
   "cell_type": "code",
   "execution_count": 1,
   "metadata": {
    "scrolled": false
   },
   "outputs": [
    {
     "ename": "SyntaxError",
     "evalue": "invalid syntax (<ipython-input-1-86aeceaea8f0>, line 1)",
     "output_type": "error",
     "traceback": [
      "\u001b[1;36m  File \u001b[1;32m\"<ipython-input-1-86aeceaea8f0>\"\u001b[1;36m, line \u001b[1;32m1\u001b[0m\n\u001b[1;33m    from GeoToolkit.Mag.DataIO\u001b[0m\n\u001b[1;37m                               ^\u001b[0m\n\u001b[1;31mSyntaxError\u001b[0m\u001b[1;31m:\u001b[0m invalid syntax\n"
     ]
    }
   ],
   "source": [
    "from GeoToolkit.Mag.DataIO \n",
    "import loadGRDFile\n",
    "dataGrid=loadGRDFile(filename) \n",
    "grid = Simulator.dataGridGeoref(dataGrid)\n",
    "display(grid)"
   ]
  },
  {
   "cell_type": "markdown",
   "metadata": {},
   "source": [
    "######  GeoTiff"
   ]
  },
  {
   "cell_type": "code",
   "execution_count": null,
   "metadata": {},
   "outputs": [],
   "source": [
    "from GeoToolkit.Mag.DataIO import loadGeoTiffFile\n",
    "dataTiff=loadGeoTiffFile(filename) \n",
    "grid = Simulator.dataGridGeoref(dataTiff)  #define saveTiff\n",
    "display(grid)"
   ]
  },
  {
   "cell_type": "markdown",
   "metadata": {},
   "source": [
    "# Save File"
   ]
  },
  {
   "cell_type": "code",
   "execution_count": null,
   "metadata": {},
   "outputs": [],
   "source": [
    "# button to save as grid.result\n",
    "from tkinter.filedialog import askdirectory\n",
    "from tkinter.filedialog import asksaveasfile\n",
    "window = Tk() # user input window\n",
    "\n",
    "tkinter.filedialog.asksaveasfile()\n",
    "def saveBox(\n",
    "            self,\n",
    "            title=None,\n",
    "            fileName=None,\n",
    "            dirName=None,\n",
    "            fileExt=\".grd\",  ###### check this\n",
    "            fileTypes=None,\n",
    "            asFile=False):\n",
    "        self.topLevel.update_idletasks()\n",
    "        if fileTypes is None:\n",
    "            fileTypes = [('all files', '*.*'), ('grid files', '.grd'),('GeoTiff files'),('.tiff')]\n",
    "        # define options for opening\n",
    "        options = {}\n",
    "        options['defaultextension'] = fileExt\n",
    "        options['filetypes'] = fileTypes\n",
    "        options['initialdir'] = dirName\n",
    "        options['initialfile'] = fileName\n",
    "        options['title'] = title\n",
    "\n",
    "        if asFile:\n",
    "            return filedialog.asksaveasfile(mode='w', **options)\n",
    "        # will return \"\" if cancelled\n",
    "        else:\n",
    "            return filedialog.asksaveasfilename(**options) "
   ]
  },
  {
   "cell_type": "code",
   "execution_count": null,
   "metadata": {},
   "outputs": [],
   "source": []
  },
  {
   "cell_type": "markdown",
   "metadata": {},
   "source": [
    " "
   ]
  }
 ],
 "metadata": {
  "kernelspec": {
   "display_name": "Python 3",
   "language": "python",
   "name": "python3"
  },
  "language_info": {
   "codemirror_mode": {
    "name": "ipython",
    "version": 3
   },
   "file_extension": ".py",
   "mimetype": "text/x-python",
   "name": "python",
   "nbconvert_exporter": "python",
   "pygments_lexer": "ipython3",
   "version": "3.7.3"
  }
 },
 "nbformat": 4,
 "nbformat_minor": 2
}
