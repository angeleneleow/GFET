{
 "cells": [
  {
   "cell_type": "markdown",
   "metadata": {},
   "source": [
    "<img src=\"./images/no_shading_vs_shading.png\" align=\"right\" alt=\"drawing\" style=\"width:400px;\"/>\n",
    "\n",
    "# 2.1.3.\tSynthetic - Magnetic Data Visualization\n",
    "\n",
    "As explained in the [Synthetic - Data Visualization section](http://toolkit.geosci.xyz/content/Demos/SyntheticVis.html#synthetic-magnetic-data-visualization), simple enhancements to magnetic grids or images can help an interpreter better visualize features within magnetic data. Applying sun-shading from various angles, experimenting with colour contrast, and adding contour lines are a simple means to explore the data initially. Various image enhancement options can be tested on the synthetic gridded magnetic data below.\n",
    "\n",
    "To run the widget, select each cell below (greyed boxes below with \"## Load all libraries...\" and \"view = Simulator.dataHillsideWidget...\") and press **[Shift+Enter]**, or select each cell and click on the **'Run'** button in the menu at the top of the notebook. ![runcell](./images/runcell_30per_ppt.PNG)\n",
    "\n",
    "## Sun-shading, color maps, and color stretch\n",
    "\n",
    "**Sun-shading**. Try using the slider bars to the left of the map - they look like this - ![sunshade](./images/shading_contours_20per_ppt.PNG) \n",
    "\n",
    "to change the direction (**SunAzimuth**) and angle (**SunAngle**) of sun shading, to vary color transparency (**ColorTransp**) and sun-shade transparency (**HSTransp**), change the vertical scale (**vScale**), and to manipulate magnetic contour lines (**Contours**).\n",
    "**Contours** can be set manually by entering unique values surch as -100, and/or a range of values with increment such as 100:50:500\n",
    "\n",
    "For example: -100,100:50:500 => will generate a contour line at -100 and a range of contours between 100 and 500, incrementing at 50.\n",
    "\n",
    "\n",
    "**Color maps**. The color map, or color 'look-up table', can also be changed. The color range can be clipped from the top or bottom using the slider bar labelled **'Color Range'**. ![colormap](./images/colormap_range_20per_ppt.PNG) \n",
    "\n",
    "\n",
    "**Color stretch**. Finally, the color stretch can be changed using the color normalization drop-down (Color Norm):![colornorm](./images/color_normalization_25per_ppt.PNG) A linear stretch (Linear), or a histogram equalized (HistEqualized) stretch can be chosen.    \n"
   ]
  },
  {
   "cell_type": "code",
   "execution_count": null,
   "metadata": {},
   "outputs": [],
   "source": [
    "## Load all libraries and setup the synthetic problem\n",
    "from GeoToolkit.Mag import Mag, ProblemSetter, MathUtils, Simulator, DataIO\n",
    "import numpy as np\n",
    "\n",
    "dataGrid = DataIO.loadGeoTiffFile(\"./assets/Synthetic/DataGrid.tiff\")"
   ]
  },
  {
   "cell_type": "code",
   "execution_count": null,
   "metadata": {},
   "outputs": [],
   "source": [
    "view = Simulator.dataHillsideWidget(dataGrid, saveAs='DataHillshade', dpi=300, Contours='-200,0,500', omit=['EPSGcode','saveAs','SaveGeoTiff'])\n",
    "display(view)"
   ]
  },
  {
   "cell_type": "markdown",
   "metadata": {},
   "source": [
    " "
   ]
  }
 ],
 "metadata": {
  "kernelspec": {
   "display_name": "Python 3",
   "language": "python",
   "name": "python3"
  },
  "language_info": {
   "codemirror_mode": {
    "name": "ipython",
    "version": 3
   },
   "file_extension": ".py",
   "mimetype": "text/x-python",
   "name": "python",
   "nbconvert_exporter": "python",
   "pygments_lexer": "ipython3",
   "version": "3.7.3"
  }
 },
 "nbformat": 4,
 "nbformat_minor": 2
}
