{
 "cells": [
  {
   "cell_type": "code",
   "execution_count": 1,
   "metadata": {},
   "outputs": [],
   "source": [
    "%matplotlib inline"
   ]
  },
  {
   "cell_type": "markdown",
   "metadata": {},
   "source": [
    "\n",
    "Reduction to the pole\n",
    "---------------------\n",
    "\n",
    "If the direction of magnetization is known, you can reduce a measured total\n",
    "field magnetic anomaly to the pole. Function\n",
    ":func:`fatiando.gravmag.transform.reduce_to_pole` implements the reduction\n",
    "using the FFT and allows using a magnetization direction that is different from\n",
    "the geomagnetic field direction. This example shows how to use it in this case.\n",
    "Use ``sinc=inc`` and ``sdec=dec`` if there is only induced magnetization.\n",
    "\n",
    "\n"
   ]
  },
  {
   "cell_type": "code",
   "execution_count": 5,
   "metadata": {},
   "outputs": [
    {
     "ename": "ModuleNotFoundError",
     "evalue": "No module named 'fatiando'",
     "output_type": "error",
     "traceback": [
      "\u001b[1;31m---------------------------------------------------------------------------\u001b[0m",
      "\u001b[1;31mModuleNotFoundError\u001b[0m                       Traceback (most recent call last)",
      "\u001b[1;32m<ipython-input-5-9c1638596490>\u001b[0m in \u001b[0;36m<module>\u001b[1;34m\u001b[0m\n\u001b[0;32m      1\u001b[0m \u001b[1;32mfrom\u001b[0m \u001b[0m__future__\u001b[0m \u001b[1;32mimport\u001b[0m \u001b[0mdivision\u001b[0m\u001b[1;33m,\u001b[0m \u001b[0mprint_function\u001b[0m\u001b[1;33m\u001b[0m\u001b[1;33m\u001b[0m\u001b[0m\n\u001b[0;32m      2\u001b[0m \u001b[1;32mimport\u001b[0m \u001b[0mmatplotlib\u001b[0m\u001b[1;33m.\u001b[0m\u001b[0mpyplot\u001b[0m \u001b[1;32mas\u001b[0m \u001b[0mplt\u001b[0m\u001b[1;33m\u001b[0m\u001b[1;33m\u001b[0m\u001b[0m\n\u001b[1;32m----> 3\u001b[1;33m \u001b[1;32mfrom\u001b[0m \u001b[0mfatiando\u001b[0m\u001b[1;33m.\u001b[0m\u001b[0mgravmag\u001b[0m \u001b[1;32mimport\u001b[0m \u001b[0mprism\u001b[0m\u001b[1;33m,\u001b[0m \u001b[0mtransform\u001b[0m\u001b[1;33m\u001b[0m\u001b[1;33m\u001b[0m\u001b[0m\n\u001b[0m\u001b[0;32m      4\u001b[0m \u001b[1;32mfrom\u001b[0m \u001b[0mfatiando\u001b[0m\u001b[1;33m.\u001b[0m\u001b[0mmesher\u001b[0m \u001b[1;32mimport\u001b[0m \u001b[0mPrism\u001b[0m\u001b[1;33m\u001b[0m\u001b[1;33m\u001b[0m\u001b[0m\n\u001b[0;32m      5\u001b[0m \u001b[1;32mfrom\u001b[0m \u001b[0mfatiando\u001b[0m \u001b[1;32mimport\u001b[0m \u001b[0mgridder\u001b[0m\u001b[1;33m,\u001b[0m \u001b[0mutils\u001b[0m\u001b[1;33m\u001b[0m\u001b[1;33m\u001b[0m\u001b[0m\n",
      "\u001b[1;31mModuleNotFoundError\u001b[0m: No module named 'fatiando'"
     ]
    }
   ],
   "source": [
    "from __future__ import division, print_function\n",
    "import matplotlib.pyplot as plt\n",
    "from fatiando.gravmag import prism, transform\n",
    "from fatiando.mesher import Prism\n",
    "from fatiando import gridder, utils\n",
    "\n",
    "# Create some synthetic magnetic data with a total magnetization that is\n",
    "# different from the geomagnetic field (so there is remanent magnetization or\n",
    "# some demagnetizing effect)\n",
    "inc, dec = -60, 23  # Geomagnetic field direction\n",
    "sinc, sdec = -30, -20  # Source magnetization direction\n",
    "mag = utils.ang2vec(1, sinc, sdec)\n",
    "model = [Prism(-1500, 1500, -500, 500, 0, 2000, {'magnetization': mag})]\n",
    "area = (-7e3, 7e3, -7e3, 7e3)\n",
    "shape = (100, 100)\n",
    "x, y, z = gridder.regular(area, shape, z=-300)\n",
    "data = prism.tf(x, y, z, model, inc, dec)\n",
    "\n",
    "# Reduce to the pole\n",
    "data_at_pole = transform.reduce_to_pole(x, y, data, shape, inc, dec, sinc,\n",
    "                                        sdec)\n",
    "\n",
    "# Make some plots\n",
    "plt.figure(figsize=(8, 6))\n",
    "\n",
    "ax = plt.subplot(1, 2, 1)\n",
    "ax.set_title('Original data')\n",
    "ax.set_aspect('equal')\n",
    "tmp = ax.tricontourf(y/1000, x/1000, data, 30, cmap='RdBu_r')\n",
    "plt.colorbar(tmp, pad=0.1, aspect=30, orientation='horizontal').set_label('nT')\n",
    "ax.set_xlabel('y (km)')\n",
    "ax.set_ylabel('x (km)')\n",
    "ax.set_xlim(area[2]/1000, area[3]/1000)\n",
    "ax.set_ylim(area[0]/1000, area[1]/100)\n",
    "\n",
    "ax = plt.subplot(1, 2, 2)\n",
    "ax.set_title('Reduced to the pole')\n",
    "ax.set_aspect('equal')\n",
    "tmp = ax.tricontourf(y/1000, x/1000, data_at_pole, 30, cmap='RdBu_r')\n",
    "plt.colorbar(tmp, pad=0.1, aspect=30, orientation='horizontal').set_label('nT')\n",
    "ax.set_xlabel('y (km)')\n",
    "ax.set_xlim(area[2]/1000, area[3]/1000)\n",
    "ax.set_ylim(area[0]/1000, area[1]/1000)\n",
    "\n",
    "plt.tight_layout()\n",
    "plt.show()"
   ]
  },
  {
   "cell_type": "code",
   "execution_count": null,
   "metadata": {},
   "outputs": [],
   "source": []
  }
 ],
 "metadata": {
  "kernelspec": {
   "display_name": "Python 3",
   "language": "python",
   "name": "python3"
  },
  "language_info": {
   "codemirror_mode": {
    "name": "ipython",
    "version": 3
   },
   "file_extension": ".py",
   "mimetype": "text/x-python",
   "name": "python",
   "nbconvert_exporter": "python",
   "pygments_lexer": "ipython3",
   "version": "3.7.3"
  }
 },
 "nbformat": 4,
 "nbformat_minor": 1
}
