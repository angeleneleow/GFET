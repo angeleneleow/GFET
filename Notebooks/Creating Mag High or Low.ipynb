{
 "cells": [
  {
   "cell_type": "markdown",
   "metadata": {},
   "source": [
    "# Select File\n"
   ]
  },
  {
   "cell_type": "code",
   "execution_count": null,
   "metadata": {},
   "outputs": [],
   "source": [
    "import sys\n",
    "sys.path.append('../')\n",
    "from GeoToolkit.Mag import Mag, ProblemSetter, MathUtils, Simulator, DataIO\n",
    "from tkinter import *\n",
    "import tkinter as tk\n",
    "import tkinter.filedialog\n",
    "from tkinter.filedialog import askdirectory\n",
    "from tkinter.filedialog import askopenfilename\n",
    "window = Tk() # user input window\n",
    "Tk().withdraw()\n",
    "MyText= StringVar()\n",
    "\n",
    "def DisplayDir(Var):\n",
    "    feedback = askopenfilename()\n",
    "    Var.set(feedback)\n",
    "\n",
    "Button(window, text='Browse File', command=DisplayDir(MyText)).pack()\n",
    "Entry(window, textvariable = MyText).pack()\n",
    "Button(window, text='OK', command=window.destroy).pack()\n",
    "mainloop()"
   ]
  },
  {
   "cell_type": "markdown",
   "metadata": {},
   "source": [
    "# Input Grid File"
   ]
  },
  {
   "cell_type": "code",
   "execution_count": null,
   "metadata": {
    "scrolled": false
   },
   "outputs": [],
   "source": [
    "from GeoToolkit.Mag.DataIO import loadGRDFile\n",
    "dataGrid=loadGRDFile(MyText.get())\n",
    "#dataGrid = DataIO.loadGeoTiffFile(\"./assets/Synthetic/DataGrid.tiff\", plotIt=False)\n",
    "#selection = Simulator.setDataExtentWidget(dataGrid)\n",
    "#display(selection)\n"
   ]
  },
  {
   "cell_type": "code",
   "execution_count": null,
   "metadata": {},
   "outputs": [],
   "source": [
    "from GeoToolkit.Mag.DataIO import loadGeoTiffFile\n",
    "dataTiff=loadGeoTiffFile(MyText.get(),plotIt=False) \n",
    "selection = Simulator.setDataExtentWidget(dataTiff)\n",
    "display(selection)\n"
   ]
  },
  {
   "cell_type": "code",
   "execution_count": null,
   "metadata": {},
   "outputs": [],
   "source": [
    "import rasterio\n",
    "import rasterio.features\n",
    "import rasterio.warp\n",
    "with rasterio.open(dataGrid) as dataset:\n",
    "# Read the dataset's valid data mask as a ndarray.\n",
    "    mask = dataset.dataset_mask()\n",
    "# Extract feature shapes and values from the array.\n",
    "for geom, val in rasterio.features.shapes(\n",
    "    mask, transform= dataset.transform):\n",
    "    # Transform shapes from the dataset's own coordinate\n",
    "    # reference system to CRS84 (EPSG:4326).\n",
    "    geom = rasterio.warp.transform_geom(\n",
    "       dataset.crs, 'EPSG:3578', geom, precision=6)\n",
    "# Print GeoJSON shapes to stdout.\n",
    "print(geom)"
   ]
  },
  {
   "cell_type": "markdown",
   "metadata": {},
   "source": [
    "# test2"
   ]
  },
  {
   "cell_type": "code",
   "execution_count": null,
   "metadata": {},
   "outputs": [],
   "source": [
    "import rasterio\n",
    "from affine import Affine\n",
    "\n",
    "xmin = -88.23\n",
    "xmax = -88.1\n",
    "ymin = 20.64\n",
    "ymax = 20.72\n",
    "\n",
    "def window_from_extent(xmin, xmax, ymin, ymax, aff):\n",
    "    col_start, row_start = ~aff * (xmin, ymax)\n",
    "    col_stop, row_stop = ~aff * (xmax, ymin)\n",
    "    return ((int(row_start), int(row_stop)), (int(col_start), int(col_stop)))\n",
    "\n",
    "with rasterio.open('/Output/MyGeoTiff') as src:\n",
    "    aff = src.affine\n",
    "    meta = src.meta.copy()\n",
    "    window = window_from_extent(xmin, xmax, ymin, ymax, aff)\n",
    "    # Read croped array\n",
    "    arr = src.read(1, window=window)\n",
    "    # Update dataset metadata (if you need it)\n",
    "    meta.update(height = window[0][1] - window[0][0],\n",
    "                width = window[1][1] - window[1][0],\n",
    "                affine = src.window_transform(window))\n",
    "    meta.pop('transform', None)\n",
    "    "
   ]
  },
  {
   "cell_type": "markdown",
   "metadata": {},
   "source": [
    "# Low Resolution"
   ]
  },
  {
   "cell_type": "code",
   "execution_count": null,
   "metadata": {},
   "outputs": [],
   "source": [
    "# The grid of raster values can be accessed as a numpy array and plotted:\n",
    "with rasterio.open(dataGrid) as src:\n",
    "   oviews = src.overviews(1) # list of overviews from biggest to smallest\n",
    "   oview = oviews[-1] # let's look at the smallest thumbnail\n",
    "   print('Decimation factor= {}'.format(oview))\n",
    "   # NOTE this is using a 'decimated read' (http://rasterio.readthedocs.io/en/latest/topics/resampling.html)\n",
    "   thumbnail = src.read(1, out_shape=(1, int(src.height // oview), int(src.width // oview)))\n",
    "\n",
    "print('array type: ',type(thumbnail))\n",
    "print(thumbnail)\n",
    "\n",
    "plt.imshow(thumbnail)\n",
    "plt.colorbar()\n",
    "plt.title('Overview - Band 4 {}'.format(thumbnail.shape))\n",
    "plt.xlabel('Column #')\n",
    "plt.ylabel('Row #')"
   ]
  },
  {
   "cell_type": "markdown",
   "metadata": {},
   "source": [
    "# "
   ]
  },
  {
   "cell_type": "markdown",
   "metadata": {},
   "source": [
    "# Save File"
   ]
  },
  {
   "cell_type": "code",
   "execution_count": null,
   "metadata": {},
   "outputs": [],
   "source": [
    "# button to save as grid.result\n",
    "from tkinter.filedialog import askdirectory\n",
    "from tkinter.filedialog import asksaveasfile\n",
    "window = Tk() # user input window\n",
    "\n",
    "tkinter.filedialog.asksaveasfile(selection.result)\n",
    "def saveBox(\n",
    "            self,\n",
    "            title=None,\n",
    "            fileName=None,\n",
    "            dirName=None,\n",
    "            fileExt=\".grd\",\n",
    "            fileTypes=None,\n",
    "            asFile=False):\n",
    "        self.topLevel.update_idletasks()\n",
    "        if fileTypes is None:\n",
    "            fileTypes = [('all files', '*.*'), ('grid files', '.grd'),('GeoTiff files'),('.tiff')]\n",
    "        # define options for opening\n",
    "        options = {}\n",
    "        options['defaultextension'] = fileExt\n",
    "        options['filetypes'] = fileTypes\n",
    "        options['initialdir'] = dirName\n",
    "        options['initialfile'] = fileName\n",
    "        options['title'] = title\n",
    "\n",
    "        if asFile:\n",
    "            return filedialog.asksaveasfile(mode='w', **options)\n",
    "        # will return \"\" if cancelled\n",
    "        else:\n",
    "            return filedialog.asksaveasfilename(**options) "
   ]
  },
  {
   "cell_type": "code",
   "execution_count": null,
   "metadata": {},
   "outputs": [],
   "source": [
    "\n"
   ]
  },
  {
   "cell_type": "markdown",
   "metadata": {},
   "source": [
    " "
   ]
  }
 ],
 "metadata": {
  "kernelspec": {
   "display_name": "Python 3",
   "language": "python",
   "name": "python3"
  },
  "language_info": {
   "codemirror_mode": {
    "name": "ipython",
    "version": 3
   },
   "file_extension": ".py",
   "mimetype": "text/x-python",
   "name": "python",
   "nbconvert_exporter": "python",
   "pygments_lexer": "ipython3",
   "version": "3.7.3"
  }
 },
 "nbformat": 4,
 "nbformat_minor": 2
}
