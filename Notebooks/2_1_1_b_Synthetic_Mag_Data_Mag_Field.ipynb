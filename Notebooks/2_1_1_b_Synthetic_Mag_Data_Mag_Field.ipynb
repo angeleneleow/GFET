{
 "cells": [
  {
   "cell_type": "markdown",
   "metadata": {},
   "source": [
    "<img src=\"./images/synth_mag_location_global.PNG\" align=\"right\" alt=\"drawing\" style=\"width:300px;\"/>\n",
    "\n",
    "# 2.1.1.b.\tSynthetic - Magnetic Data Response - Mag Field#\n",
    "\n",
    "\n",
    "## Magnetic response of a simple geologic model\n",
    "\n",
    "\n",
    "As discussed in [Section 1 on the Toolkit website (Magnetic Data - Background)](http://toolkit.geosci.xyz/content/Magnetics/Mag_index.html#magnetization), the magnetic response will depend on the inclination, declination, and field strength of the magnetic field at the survey location. \n",
    "\n",
    "To run the widget, select each cell below (greyed boxes below with \"import json...\" and \"view = Simulator.worldViewerWidget...\") and press **[Shift+Enter]**, or select each cell and click on the **'Run'** button in the menu at the top of the notebook. ![runcell](./images/runcell_30per_ppt.PNG)\n",
    "\n",
    "Use the drop down menu below, which looks like this, ![locationDrop](./images/location_dropdown2_20per_ppt.PNG) to explore the range of responses (Total Magnetic Intensity) that would be measured if this same geologic (and magnetic rock properties) scenario existed at different locations on Earth. The red arrow at the bottom: ![incDecArrow](./images/arrow_location_10per_ppt.PNG) illustrates the inclination and declination of the chosen location. \n",
    "\n",
    "Notice how data collected at very low latitudes near the magnetic equator (e.g. Chile and Peru locations) show magnetic anomlies offset significantly from their source due to the near-horizontal magnetic inclinations existing at these locations. TMI data from these very low latitude locations are very difficult to interpret, and additional processing or filtering is typically necessary. "
   ]
  },
  {
   "cell_type": "code",
   "execution_count": 2,
   "metadata": {},
   "outputs": [
    {
     "name": "stderr",
     "output_type": "stream",
     "text": [
      "C:\\Users\\aleow\\Anaconda3\\lib\\site-packages\\dask\\config.py:168: YAMLLoadWarning: calling yaml.load() without Loader=... is deprecated, as the default Loader is unsafe. Please read https://msg.pyyaml.org/load for full details.\n",
      "  data = yaml.load(f.read()) or {}\n"
     ]
    }
   ],
   "source": [
    "import json\n",
    "import sys\n",
    "sys.path.append('../')\n",
    "from GeoToolkit.Mag import Simulator, DataIO\n",
    "dataGrid = DataIO.loadGeoTiffFile(\"./assets/Synthetic/DataGrid.tiff\", plotIt=False)\n",
    "\n",
    "# cities = shapefile.Reader('./assets/worldShapefile/ne_10m_populated_places_simple.shp')\n",
    "worldFile = './assets/Continents/continentDwnS50.shp'\n",
    "\n",
    "# Load in the pre-defined locations\n",
    "with open('./assets/MAGlocations_w_field.json', 'r') as fp:\n",
    "    sites = json.load(fp)"
   ]
  },
  {
   "cell_type": "code",
   "execution_count": 3,
   "metadata": {},
   "outputs": [
    {
     "data": {
      "application/vnd.jupyter.widget-view+json": {
       "model_id": "0983701c3a5440989ff22bb8bc929db6",
       "version_major": 2,
       "version_minor": 0
      },
      "text/plain": [
       "interactive(children=(Dropdown(description='Location:', options=('North Pole', 'Yukon', 'Northern BC', 'Montre…"
      ]
     },
     "metadata": {},
     "output_type": "display_data"
    }
   ],
   "source": [
    "view = Simulator.worldViewerWidget(worldFile, sites, dataGrid, shapeFile='./assets/Synthetic/Synthetic_Zcontours.shp')\n",
    "display(view)"
   ]
  },
  {
   "cell_type": "markdown",
   "metadata": {},
   "source": [
    " "
   ]
  }
 ],
 "metadata": {
  "kernelspec": {
   "display_name": "Python 3",
   "language": "python",
   "name": "python3"
  },
  "language_info": {
   "codemirror_mode": {
    "name": "ipython",
    "version": 3
   },
   "file_extension": ".py",
   "mimetype": "text/x-python",
   "name": "python",
   "nbconvert_exporter": "python",
   "pygments_lexer": "ipython3",
   "version": "3.7.3"
  }
 },
 "nbformat": 4,
 "nbformat_minor": 2
}
