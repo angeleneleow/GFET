{
 "cells": [
  {
   "cell_type": "code",
   "execution_count": 28,
   "metadata": {},
   "outputs": [],
   "source": [
    "import sys\n",
    "sys.path.append(\"../\")\n",
    "from GeoToolkit.Mag import Mag, ProblemSetter, MathUtils, Simulator, DataIO\n",
    "import numpy as np\n",
    "import matplotlib.pyplot as plt"
   ]
  },
  {
   "cell_type": "code",
   "execution_count": 29,
   "metadata": {},
   "outputs": [],
   "source": [
    "# Create a grid of locations\n",
    "X, Y = np.meshgrid(np.linspace(-15, 15, 21),np.linspace(-15, 15, 21))\n",
    "Z = np.ones_like(X) * 5\n",
    "\n",
    "survey, mesh, model = ProblemSetter.setSyntheticProblem(np.c_[X.flatten(), Y.flatten(), Z.flatten()], EarthField=[50000, 90, 0])"
   ]
  },
  {
   "cell_type": "code",
   "execution_count": 30,
   "metadata": {},
   "outputs": [],
   "source": [
    "inc, dec = 30, -15\n",
    "\n",
    "survey = Mag.createMagSurvey(np.c_[X.flatten(), Y.flatten(), Z.flatten()], EarthField=[50000, inc, dec])\n",
    "prism = Simulator.definePrism()\n",
    "prob = Mag.Problem(prism=prism, survey=survey)\n",
    "\n",
    "survey._dobs=prob.fields()[0]"
   ]
  },
  {
   "cell_type": "code",
   "execution_count": 31,
   "metadata": {},
   "outputs": [],
   "source": [
    "# Simulator.ViewMagSurveyWidget(survey)\n"
   ]
  },
  {
   "cell_type": "code",
   "execution_count": 32,
   "metadata": {},
   "outputs": [],
   "source": [
    "grid = DataIO.dataGrid()\n",
    "\n",
    "grid._values = survey.dobs.reshape(X.shape)\n",
    "grid.nx, grid.ny = grid.values.shape[1], grid.values.shape[0]\n",
    "\n",
    "grid.dx = (X.max() - X.min()) / (grid.values.shape[1] - 1)\n",
    "grid.dy = (Y.max() - Y.min()) / (grid.values.shape[0] - 1)\n",
    "\n",
    "grid.x0, grid.y0 = X.min()-grid.dx/2., Y.min()-grid.dy/2.\n",
    "\n",
    "grid.limits = np.r_[grid.x0, grid.x0+grid.nx*grid.dx, grid.y0, grid.y0+grid.ny*grid.dy]\n",
    "        \n",
    "grid.inc, grid.dec = inc, dec\n",
    "\n"
   ]
  },
  {
   "cell_type": "code",
   "execution_count": 26,
   "metadata": {},
   "outputs": [
    {
     "data": {
      "text/plain": [
       "-15.75"
      ]
     },
     "execution_count": 26,
     "metadata": {},
     "output_type": "execute_result"
    }
   ],
   "source": [
    "grid.x0"
   ]
  },
  {
   "cell_type": "code",
   "execution_count": 33,
   "metadata": {},
   "outputs": [
    {
     "data": {
      "image/png": "[encoded data removed]",
      "text/plain": [
       "<Figure size 432x288 with 1 Axes>"
      ]
     },
     "metadata": {
      "needs_background": "light"
     },
     "output_type": "display_data"
    }
   ],
   "source": [
    "axs = plt.subplot()\n",
    "out = Simulator.plotDataHillside(\n",
    "        grid.hx, grid.hy, grid.values, axs=axs, alpha=1, alphaHS=0, equalizeHist=True)\n",
    "\n",
    "axs.set_aspect('equal')"
   ]
  },
  {
   "cell_type": "code",
   "execution_count": 34,
   "metadata": {},
   "outputs": [
    {
     "ename": "ValueError",
     "evalue": "operands could not be broadcast together with shapes (63,63) (62,62) ",
     "output_type": "error",
     "traceback": [
      "\u001b[1;31m---------------------------------------------------------------------------\u001b[0m",
      "\u001b[1;31mValueError\u001b[0m                                Traceback (most recent call last)",
      "\u001b[1;32m<ipython-input-34-72b74e1907d8>\u001b[0m in \u001b[0;36m<module>\u001b[1;34m\u001b[0m\n\u001b[0;32m      1\u001b[0m \u001b[1;31m# Rotate the fields\u001b[0m\u001b[1;33m\u001b[0m\u001b[1;33m\u001b[0m\u001b[1;33m\u001b[0m\u001b[0m\n\u001b[1;32m----> 2\u001b[1;33m \u001b[0mgrid\u001b[0m\u001b[1;33m.\u001b[0m\u001b[0msetRTP\u001b[0m\u001b[1;33m(\u001b[0m\u001b[1;32mTrue\u001b[0m\u001b[1;33m)\u001b[0m\u001b[1;33m\u001b[0m\u001b[1;33m\u001b[0m\u001b[0m\n\u001b[0m\u001b[0;32m      3\u001b[0m \u001b[0maxs\u001b[0m \u001b[1;33m=\u001b[0m \u001b[0mplt\u001b[0m\u001b[1;33m.\u001b[0m\u001b[0msubplot\u001b[0m\u001b[1;33m(\u001b[0m\u001b[1;33m)\u001b[0m\u001b[1;33m\u001b[0m\u001b[1;33m\u001b[0m\u001b[0m\n\u001b[0;32m      4\u001b[0m out = Simulator.plotDataHillside(\n\u001b[0;32m      5\u001b[0m         grid.hx, grid.hy, grid.values, axs=axs, alpha=1, alphaHS=0, equalizeHist=False)\n",
      "\u001b[1;32md:\\aleow\\code\\Toolkit\\GeoToolkit\\Mag\\DataIO.py\u001b[0m in \u001b[0;36msetRTP\u001b[1;34m(self, isRTP)\u001b[0m\n\u001b[0;32m    362\u001b[0m             Frtp = self.gridFFT / (\n\u001b[0;32m    363\u001b[0m                 \u001b[1;33m(\u001b[0m\u001b[0mh0_xyz\u001b[0m\u001b[1;33m[\u001b[0m\u001b[1;36m2\u001b[0m\u001b[1;33m]\u001b[0m \u001b[1;33m*\u001b[0m \u001b[1;33m(\u001b[0m\u001b[0mself\u001b[0m\u001b[1;33m.\u001b[0m\u001b[0mKx\u001b[0m\u001b[1;33m**\u001b[0m\u001b[1;36m2.\u001b[0m \u001b[1;33m+\u001b[0m \u001b[0mself\u001b[0m\u001b[1;33m.\u001b[0m\u001b[0mKy\u001b[0m\u001b[1;33m**\u001b[0m\u001b[1;36m2.\u001b[0m \u001b[1;33m+\u001b[0m \u001b[1;36m1e-12\u001b[0m\u001b[1;33m)\u001b[0m\u001b[1;33m**\u001b[0m\u001b[1;36m0.5\u001b[0m \u001b[1;33m+\u001b[0m \u001b[1;36m1j\u001b[0m\u001b[1;33m*\u001b[0m\u001b[1;33m(\u001b[0m\u001b[0mself\u001b[0m\u001b[1;33m.\u001b[0m\u001b[0mKx\u001b[0m\u001b[1;33m*\u001b[0m\u001b[0mh0_xyz\u001b[0m\u001b[1;33m[\u001b[0m\u001b[1;36m0\u001b[0m\u001b[1;33m]\u001b[0m \u001b[1;33m+\u001b[0m \u001b[0mself\u001b[0m\u001b[1;33m.\u001b[0m\u001b[0mKy\u001b[0m\u001b[1;33m*\u001b[0m\u001b[0mh0_xyz\u001b[0m\u001b[1;33m[\u001b[0m\u001b[1;36m1\u001b[0m\u001b[1;33m]\u001b[0m\u001b[1;33m)\u001b[0m\u001b[1;33m)\u001b[0m\u001b[1;33m**\u001b[0m\u001b[1;36m2.\u001b[0m \u001b[1;33m/\u001b[0m\u001b[1;33m\u001b[0m\u001b[1;33m\u001b[0m\u001b[0m\n\u001b[1;32m--> 364\u001b[1;33m                 \u001b[1;33m(\u001b[0m\u001b[0mself\u001b[0m\u001b[1;33m.\u001b[0m\u001b[0mKx\u001b[0m\u001b[1;33m**\u001b[0m\u001b[1;36m2.\u001b[0m \u001b[1;33m+\u001b[0m \u001b[0mself\u001b[0m\u001b[1;33m.\u001b[0m\u001b[0mKy\u001b[0m\u001b[1;33m**\u001b[0m\u001b[1;36m2.\u001b[0m \u001b[1;33m+\u001b[0m \u001b[1;36m1e-12\u001b[0m\u001b[1;33m)\u001b[0m\u001b[1;33m\u001b[0m\u001b[1;33m\u001b[0m\u001b[0m\n\u001b[0m\u001b[0;32m    365\u001b[0m             )\n\u001b[0;32m    366\u001b[0m             \u001b[0mrtp_pad\u001b[0m \u001b[1;33m=\u001b[0m \u001b[0mnp\u001b[0m\u001b[1;33m.\u001b[0m\u001b[0mfft\u001b[0m\u001b[1;33m.\u001b[0m\u001b[0mifft2\u001b[0m\u001b[1;33m(\u001b[0m\u001b[0mFrtp\u001b[0m\u001b[1;33m)\u001b[0m\u001b[1;33m\u001b[0m\u001b[1;33m\u001b[0m\u001b[0m\n",
      "\u001b[1;31mValueError\u001b[0m: operands could not be broadcast together with shapes (63,63) (62,62) "
     ]
    }
   ],
   "source": [
    "# Rotate the fields\n",
    "grid.setRTP(True)\n",
    "axs = plt.subplot()\n",
    "out = Simulator.plotDataHillside(\n",
    "        grid.hx, grid.hy, grid.values, axs=axs, alpha=1, alphaHS=0, equalizeHist=False)\n",
    "\n"
   ]
  },
  {
   "cell_type": "code",
   "execution_count": null,
   "metadata": {},
   "outputs": [],
   "source": []
  },
  {
   "cell_type": "code",
   "execution_count": null,
   "metadata": {},
   "outputs": [],
   "source": []
  }
 ],
 "metadata": {
  "kernelspec": {
   "display_name": "Python 3",
   "language": "python",
   "name": "python3"
  },
  "language_info": {
   "codemirror_mode": {
    "name": "ipython",
    "version": 3
   },
   "file_extension": ".py",
   "mimetype": "text/x-python",
   "name": "python",
   "nbconvert_exporter": "python",
   "pygments_lexer": "ipython3",
   "version": "3.7.3"
  }
 },
 "nbformat": 4,
 "nbformat_minor": 2
}
